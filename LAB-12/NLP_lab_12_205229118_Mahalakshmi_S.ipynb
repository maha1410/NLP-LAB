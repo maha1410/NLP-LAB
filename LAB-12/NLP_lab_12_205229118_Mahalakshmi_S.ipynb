{
  "nbformat": 4,
  "nbformat_minor": 0,
  "metadata": {
    "kernelspec": {
      "display_name": "Python 3",
      "language": "python",
      "name": "python3"
    },
    "language_info": {
      "codemirror_mode": {
        "name": "ipython",
        "version": 3
      },
      "file_extension": ".py",
      "mimetype": "text/x-python",
      "name": "python",
      "nbconvert_exporter": "python",
      "pygments_lexer": "ipython3",
      "version": "3.8.5"
    },
    "colab": {
      "name": "NLP_lab-12_205229118_Mahalakshmi.S.ipynb",
      "provenance": []
    }
  },
  "cells": [
    {
      "cell_type": "code",
      "metadata": {
        "id": "GIA-2Twz5XZB"
      },
      "source": [
        "https://www.kaggle.com/mahalakshmisakthivel/nlp-project-mahalakshmi"
      ],
      "execution_count": null,
      "outputs": []
    },
    {
      "cell_type": "markdown",
      "metadata": {
        "id": "pv68etRw5XZH"
      },
      "source": [
        "## Lab12. Building and Parsing Context Free Grammars"
      ]
    },
    {
      "cell_type": "code",
      "metadata": {
        "colab": {
          "base_uri": "https://localhost:8080/"
        },
        "id": "TxtrXyNp5XZI",
        "outputId": "1f88f053-e96d-4d4b-b56e-1d9939d55211"
      },
      "source": [
        "import nltk\n",
        "nltk.download(\"punkt\")\n",
        "from nltk.tree import Tree\n",
        "from nltk.tokenize import word_tokenize\n",
        "from IPython.display import display\n",
        "import nltk,re,pprint\n",
        "from nltk.tag import pos_tag\n",
        "from nltk.chunk import ne_chunk\n",
        "import numpy as npt\n",
        "\n",
        "!apt-get install -y xvfb # Install X Virtual Frame Buffer\n",
        "import os\n",
        "os.system('Xvfb :1 -screen 0 1600x1200x16  &')# create virtual display with size 1600x1200 and 16 bit color. Color can be changed to 24 or 8\n",
        "os.environ['DISPLAY']=':1.0'# tell X clients to use our virtual DISPLAY :1.0.\n",
        "%matplotlib inline\n",
        "### INSTALL GHOSTSCRIPT (Required to display NLTK trees)\n",
        "!apt install ghostscript python3-tk"
      ],
      "execution_count": 1,
      "outputs": [
        {
          "output_type": "stream",
          "text": [
            "[nltk_data] Downloading package punkt to /root/nltk_data...\n",
            "[nltk_data]   Unzipping tokenizers/punkt.zip.\n",
            "Reading package lists... Done\n",
            "Building dependency tree       \n",
            "Reading state information... Done\n",
            "The following package was automatically installed and is no longer required:\n",
            "  libnvidia-common-460\n",
            "Use 'apt autoremove' to remove it.\n",
            "The following NEW packages will be installed:\n",
            "  xvfb\n",
            "0 upgraded, 1 newly installed, 0 to remove and 34 not upgraded.\n",
            "Need to get 784 kB of archives.\n",
            "After this operation, 2,270 kB of additional disk space will be used.\n",
            "Get:1 http://archive.ubuntu.com/ubuntu bionic-updates/universe amd64 xvfb amd64 2:1.19.6-1ubuntu4.9 [784 kB]\n",
            "Fetched 784 kB in 1s (958 kB/s)\n",
            "Selecting previously unselected package xvfb.\n",
            "(Reading database ... 160706 files and directories currently installed.)\n",
            "Preparing to unpack .../xvfb_2%3a1.19.6-1ubuntu4.9_amd64.deb ...\n",
            "Unpacking xvfb (2:1.19.6-1ubuntu4.9) ...\n",
            "Setting up xvfb (2:1.19.6-1ubuntu4.9) ...\n",
            "Processing triggers for man-db (2.8.3-2ubuntu0.1) ...\n",
            "Reading package lists... Done\n",
            "Building dependency tree       \n",
            "Reading state information... Done\n",
            "python3-tk is already the newest version (3.6.9-1~18.04).\n",
            "The following package was automatically installed and is no longer required:\n",
            "  libnvidia-common-460\n",
            "Use 'apt autoremove' to remove it.\n",
            "The following additional packages will be installed:\n",
            "  fonts-droid-fallback fonts-noto-mono gsfonts libcupsfilters1 libcupsimage2\n",
            "  libgs9 libgs9-common libijs-0.35 libjbig2dec0 poppler-data\n",
            "Suggested packages:\n",
            "  fonts-noto ghostscript-x poppler-utils fonts-japanese-mincho\n",
            "  | fonts-ipafont-mincho fonts-japanese-gothic | fonts-ipafont-gothic\n",
            "  fonts-arphic-ukai fonts-arphic-uming fonts-nanum\n",
            "The following NEW packages will be installed:\n",
            "  fonts-droid-fallback fonts-noto-mono ghostscript gsfonts libcupsfilters1\n",
            "  libcupsimage2 libgs9 libgs9-common libijs-0.35 libjbig2dec0 poppler-data\n",
            "0 upgraded, 11 newly installed, 0 to remove and 34 not upgraded.\n",
            "Need to get 14.1 MB of archives.\n",
            "After this operation, 49.9 MB of additional disk space will be used.\n",
            "Get:1 http://archive.ubuntu.com/ubuntu bionic/main amd64 fonts-droid-fallback all 1:6.0.1r16-1.1 [1,805 kB]\n",
            "Get:2 http://archive.ubuntu.com/ubuntu bionic/main amd64 poppler-data all 0.4.8-2 [1,479 kB]\n",
            "Get:3 http://archive.ubuntu.com/ubuntu bionic/main amd64 fonts-noto-mono all 20171026-2 [75.5 kB]\n",
            "Get:4 http://archive.ubuntu.com/ubuntu bionic-updates/main amd64 libcupsimage2 amd64 2.2.7-1ubuntu2.8 [18.6 kB]\n",
            "Get:5 http://archive.ubuntu.com/ubuntu bionic/main amd64 libijs-0.35 amd64 0.35-13 [15.5 kB]\n",
            "Get:6 http://archive.ubuntu.com/ubuntu bionic/main amd64 libjbig2dec0 amd64 0.13-6 [55.9 kB]\n",
            "Get:7 http://archive.ubuntu.com/ubuntu bionic-updates/main amd64 libgs9-common all 9.26~dfsg+0-0ubuntu0.18.04.14 [5,092 kB]\n",
            "Get:8 http://archive.ubuntu.com/ubuntu bionic-updates/main amd64 libgs9 amd64 9.26~dfsg+0-0ubuntu0.18.04.14 [2,265 kB]\n",
            "Get:9 http://archive.ubuntu.com/ubuntu bionic-updates/main amd64 ghostscript amd64 9.26~dfsg+0-0ubuntu0.18.04.14 [51.3 kB]\n",
            "Get:10 http://archive.ubuntu.com/ubuntu bionic/main amd64 gsfonts all 1:8.11+urwcyr1.0.7~pre44-4.4 [3,120 kB]\n",
            "Get:11 http://archive.ubuntu.com/ubuntu bionic-updates/main amd64 libcupsfilters1 amd64 1.20.2-0ubuntu3.1 [108 kB]\n",
            "Fetched 14.1 MB in 1s (10.5 MB/s)\n",
            "Selecting previously unselected package fonts-droid-fallback.\n",
            "(Reading database ... 160713 files and directories currently installed.)\n",
            "Preparing to unpack .../00-fonts-droid-fallback_1%3a6.0.1r16-1.1_all.deb ...\n",
            "Unpacking fonts-droid-fallback (1:6.0.1r16-1.1) ...\n",
            "Selecting previously unselected package poppler-data.\n",
            "Preparing to unpack .../01-poppler-data_0.4.8-2_all.deb ...\n",
            "Unpacking poppler-data (0.4.8-2) ...\n",
            "Selecting previously unselected package fonts-noto-mono.\n",
            "Preparing to unpack .../02-fonts-noto-mono_20171026-2_all.deb ...\n",
            "Unpacking fonts-noto-mono (20171026-2) ...\n",
            "Selecting previously unselected package libcupsimage2:amd64.\n",
            "Preparing to unpack .../03-libcupsimage2_2.2.7-1ubuntu2.8_amd64.deb ...\n",
            "Unpacking libcupsimage2:amd64 (2.2.7-1ubuntu2.8) ...\n",
            "Selecting previously unselected package libijs-0.35:amd64.\n",
            "Preparing to unpack .../04-libijs-0.35_0.35-13_amd64.deb ...\n",
            "Unpacking libijs-0.35:amd64 (0.35-13) ...\n",
            "Selecting previously unselected package libjbig2dec0:amd64.\n",
            "Preparing to unpack .../05-libjbig2dec0_0.13-6_amd64.deb ...\n",
            "Unpacking libjbig2dec0:amd64 (0.13-6) ...\n",
            "Selecting previously unselected package libgs9-common.\n",
            "Preparing to unpack .../06-libgs9-common_9.26~dfsg+0-0ubuntu0.18.04.14_all.deb ...\n",
            "Unpacking libgs9-common (9.26~dfsg+0-0ubuntu0.18.04.14) ...\n",
            "Selecting previously unselected package libgs9:amd64.\n",
            "Preparing to unpack .../07-libgs9_9.26~dfsg+0-0ubuntu0.18.04.14_amd64.deb ...\n",
            "Unpacking libgs9:amd64 (9.26~dfsg+0-0ubuntu0.18.04.14) ...\n",
            "Selecting previously unselected package ghostscript.\n",
            "Preparing to unpack .../08-ghostscript_9.26~dfsg+0-0ubuntu0.18.04.14_amd64.deb ...\n",
            "Unpacking ghostscript (9.26~dfsg+0-0ubuntu0.18.04.14) ...\n",
            "Selecting previously unselected package gsfonts.\n",
            "Preparing to unpack .../09-gsfonts_1%3a8.11+urwcyr1.0.7~pre44-4.4_all.deb ...\n",
            "Unpacking gsfonts (1:8.11+urwcyr1.0.7~pre44-4.4) ...\n",
            "Selecting previously unselected package libcupsfilters1:amd64.\n",
            "Preparing to unpack .../10-libcupsfilters1_1.20.2-0ubuntu3.1_amd64.deb ...\n",
            "Unpacking libcupsfilters1:amd64 (1.20.2-0ubuntu3.1) ...\n",
            "Setting up libgs9-common (9.26~dfsg+0-0ubuntu0.18.04.14) ...\n",
            "Setting up fonts-droid-fallback (1:6.0.1r16-1.1) ...\n",
            "Setting up gsfonts (1:8.11+urwcyr1.0.7~pre44-4.4) ...\n",
            "Setting up poppler-data (0.4.8-2) ...\n",
            "Setting up fonts-noto-mono (20171026-2) ...\n",
            "Setting up libcupsfilters1:amd64 (1.20.2-0ubuntu3.1) ...\n",
            "Setting up libcupsimage2:amd64 (2.2.7-1ubuntu2.8) ...\n",
            "Setting up libjbig2dec0:amd64 (0.13-6) ...\n",
            "Setting up libijs-0.35:amd64 (0.35-13) ...\n",
            "Setting up libgs9:amd64 (9.26~dfsg+0-0ubuntu0.18.04.14) ...\n",
            "Setting up ghostscript (9.26~dfsg+0-0ubuntu0.18.04.14) ...\n",
            "Processing triggers for man-db (2.8.3-2ubuntu0.1) ...\n",
            "Processing triggers for fontconfig (2.12.6-0ubuntu2) ...\n",
            "Processing triggers for libc-bin (2.27-3ubuntu1.2) ...\n",
            "/sbin/ldconfig.real: /usr/local/lib/python3.7/dist-packages/ideep4py/lib/libmkldnn.so.0 is not a symbolic link\n",
            "\n"
          ],
          "name": "stdout"
        }
      ]
    },
    {
      "cell_type": "markdown",
      "metadata": {
        "id": "1jHCi7Db5XZL"
      },
      "source": [
        "### EXERCISE-1: Build Grammar and Parser"
      ]
    },
    {
      "cell_type": "code",
      "metadata": {
        "id": "FFbvAYCQ5XZM"
      },
      "source": [
        "Grammar_1 = nltk.CFG.fromstring(\"\"\"\n",
        "S -> NP VP | NP VP \n",
        "NP -> N | Det N | PRO | N N \n",
        "VP -> V NP CP | VP ADVP | V NP \n",
        "ADVP -> ADV ADV \n",
        "CP -> COMP S \n",
        "N -> 'Lisa' | 'brother' | 'peanut' | 'butter'    \n",
        "V -> 'told' | 'liked'  \n",
        "COMP -> 'that' \n",
        "Det -> 'her' \n",
        "PRO -> 'she' \n",
        "ADV -> 'very' | 'much'\n",
        "\n",
        "S -> NP VP \n",
        "NP -> NP CONJ NP | N | NP PP | Det N | N | Det N \n",
        "VP -> VP PP | VP CONJ VP | V | V \n",
        "PP -> P NP | P NP \n",
        "N -> 'Homer' | 'friends' | 'work' | 'bar'   \n",
        "V -> 'drank' | 'sang'  \n",
        "CONJ -> 'and' | 'and'\n",
        "Det -> 'his' | 'the'\n",
        "P -> 'from' | 'in'\n",
        "\n",
        "S -> NP VP \n",
        "NP -> NP CONJ NP | N | N \n",
        "VP -> V ADJP \n",
        "ADJP -> ADJP CONJ ADJP | ADJ | ADV ADJ \n",
        "N -> 'Homer' | 'Marge'  \n",
        "V -> 'are'   \n",
        "CONJ -> 'and' | 'but'\n",
        "ADJ -> 'poor' | 'happy'\n",
        "ADV -> 'very'\n",
        "\n",
        "S -> NP VP | NP AUX VP \n",
        "NP -> PRO | NP CP | Det N | PRO | PRO | PRO | N |Det N\n",
        "VP -> V NP PP | V NP NP\n",
        "CP -> COMP S\n",
        "PP -> P NP \n",
        "Det -> 'the' | 'his' \n",
        "PRO -> 'he' | 'I' | 'him' \n",
        "N -> 'book' | 't' | 'sister'  \n",
        "V -> 'gave' | 'given'  \n",
        "COMP -> 'that'\n",
        "AUX -> 'had' \n",
        "P -> 'to'\n",
        "\n",
        "S -> NP VP\n",
        "NP -> PRO | Det N | Det N\n",
        "VP -> V NP PP\n",
        "PP -> P NP \n",
        "Det -> 'the' | 'his'\n",
        "PRO -> 'he' \n",
        "N -> 'book' | 'sister' \n",
        "V -> 'gave' \n",
        "P -> 'to'\n",
        "\n",
        "S -> NP VP\n",
        "NP -> Det ADJ N | Det ADJ ADJ N | N\n",
        "VP -> V NP|VP PP\n",
        "PP -> P NP \n",
        "Det -> 'the' | 'the'\n",
        "ADJ -> 'big' | 'tiny' | 'nerdy'\n",
        "N -> 'bully' | 'kid' | 'school'\n",
        "V -> 'punched'\n",
        "P -> 'after'\n",
        "\"\"\")"
      ],
      "execution_count": 2,
      "outputs": []
    },
    {
      "cell_type": "markdown",
      "metadata": {
        "id": "9dopk5kO5XZN"
      },
      "source": [
        "#### 1.Using NLTK's nltk.CFG.fromstring() method, build a CFG named grammar1. The grammar should cover all of the sentences below and their tree structure as presented on this page. The grammar's start symbol should be 'S': make sure that an S rule (ex. S -> NP VP) is the very top rule in your list of rules."
      ]
    },
    {
      "cell_type": "markdown",
      "metadata": {
        "id": "R9voqkU75XZO"
      },
      "source": [
        "### (s6)the big bully punched the tiny nerdy kid after school"
      ]
    },
    {
      "cell_type": "code",
      "metadata": {
        "id": "s1ifEKjW5XZP"
      },
      "source": [
        "s6_grammar1 = nltk.CFG.fromstring(\"\"\"\n",
        "S -> NP VP\n",
        "NP -> Det ADJ N | Det ADJ ADJ N | N\n",
        "VP -> V NP|VP PP\n",
        "PP -> P NP \n",
        "Det -> 'the' | 'the'\n",
        "ADJ -> 'big' | 'tiny' | 'nerdy'\n",
        "N -> 'bully' | 'kid' | 'school'\n",
        "V -> 'punched'\n",
        "P -> 'after'\n",
        "\"\"\")"
      ],
      "execution_count": 16,
      "outputs": []
    },
    {
      "cell_type": "code",
      "metadata": {
        "colab": {
          "base_uri": "https://localhost:8080/"
        },
        "id": "zdTxTS8f5XZQ",
        "outputId": "f68e7c77-a0b4-4f4e-af06-c12917530e86"
      },
      "source": [
        "sentence6 = word_tokenize(\"the big bully punched the tiny nerdy kid after school\")\n",
        "parser = nltk.ChartParser(s6_grammar1)\n",
        "for tree in parser.parse(sentence6):\n",
        "    print(tree)"
      ],
      "execution_count": 17,
      "outputs": [
        {
          "output_type": "stream",
          "text": [
            "(S\n",
            "  (NP (Det the) (ADJ big) (N bully))\n",
            "  (VP\n",
            "    (VP (V punched) (NP (Det the) (ADJ tiny) (ADJ nerdy) (N kid)))\n",
            "    (PP (P after) (NP (N school)))))\n"
          ],
          "name": "stdout"
        }
      ]
    },
    {
      "cell_type": "code",
      "metadata": {
        "colab": {
          "base_uri": "https://localhost:8080/",
          "height": 250
        },
        "id": "p8vsgGQE5XZR",
        "outputId": "7223bb3c-6df3-4b71-f760-27f3bfd76215"
      },
      "source": [
        "np6 =nltk.Tree.fromstring('(S(NP (Det the) (ADJ big) (N bully))(VP(VP (V punched) (NP (Det the) (ADJ tiny) (ADJ nerdy) (N kid)))(PP (P after) (NP (N school)))))')\n",
        "display(np1)"
      ],
      "execution_count": 18,
      "outputs": [
        {
          "output_type": "display_data",
          "data": {
            "image/png": "[encoded data removed]",
            "text/plain": [
              "Tree('S', [Tree('NP', [Tree('Det', ['the']), Tree('ADJ', ['big']), Tree('N', ['bully'])]), Tree('VP', [Tree('VP', [Tree('V', ['punched']), Tree('NP', [Tree('Det', ['the']), Tree('ADJ', ['tiny']), Tree('ADJ', ['nerdy']), Tree('N', ['kid'])])]), Tree('PP', [Tree('P', ['after']), Tree('NP', [Tree('N', ['school'])])])])])"
            ]
          },
          "metadata": {
            "tags": []
          }
        }
      ]
    },
    {
      "cell_type": "markdown",
      "metadata": {
        "id": "HRKFtpwy5XZT"
      },
      "source": [
        "### (s7)he gave the book to his sister"
      ]
    },
    {
      "cell_type": "code",
      "metadata": {
        "id": "EPVotqxm5XZT"
      },
      "source": [
        "s7_grammar1 = nltk.CFG.fromstring(\"\"\"\n",
        "S -> NP VP\n",
        "NP -> PRO | Det N | Det N\n",
        "VP -> V NP PP\n",
        "PP -> P NP \n",
        "Det -> 'the' | 'his'\n",
        "PRO -> 'he' \n",
        "N -> 'book' | 'sister' \n",
        "V -> 'gave' \n",
        "P -> 'to' \n",
        "\"\"\")"
      ],
      "execution_count": 19,
      "outputs": []
    },
    {
      "cell_type": "code",
      "metadata": {
        "colab": {
          "base_uri": "https://localhost:8080/"
        },
        "id": "zElpkl0c5XZU",
        "outputId": "fa82fcce-27f2-45ea-b7d9-09a68caf287a"
      },
      "source": [
        "sentence7 = word_tokenize(\"he gave the book to his sister\")\n",
        "parser = nltk.ChartParser(s7_grammar1)\n",
        "for i in parser.parse(sentence7):\n",
        "    print(i)"
      ],
      "execution_count": 20,
      "outputs": [
        {
          "output_type": "stream",
          "text": [
            "(S\n",
            "  (NP (PRO he))\n",
            "  (VP\n",
            "    (V gave)\n",
            "    (NP (Det the) (N book))\n",
            "    (PP (P to) (NP (Det his) (N sister)))))\n"
          ],
          "name": "stdout"
        }
      ]
    },
    {
      "cell_type": "code",
      "metadata": {
        "colab": {
          "base_uri": "https://localhost:8080/",
          "height": 250
        },
        "id": "_I44el7F5XZW",
        "outputId": "edcacbcf-3ad4-4760-ff98-7fb5ee0c506a"
      },
      "source": [
        "np7 =nltk.Tree.fromstring('(S(NP (PRO he))(VP(V gave)(NP (Det the) (N book))(PP (P to) (NP (Det his) (N sister)))))')\n",
        "display(np7)"
      ],
      "execution_count": 21,
      "outputs": [
        {
          "output_type": "display_data",
          "data": {
            "image/png": "[encoded data removed]",
            "text/plain": [
              "Tree('S', [Tree('NP', [Tree('PRO', ['he'])]), Tree('VP', [Tree('V', ['gave']), Tree('NP', [Tree('Det', ['the']), Tree('N', ['book'])]), Tree('PP', [Tree('P', ['to']), Tree('NP', [Tree('Det', ['his']), Tree('N', ['sister'])])])])])"
            ]
          },
          "metadata": {
            "tags": []
          }
        }
      ]
    },
    {
      "cell_type": "markdown",
      "metadata": {
        "id": "dhEtSXYd5XZX"
      },
      "source": [
        "### (s8)he gave the book that I had given him t to his sister"
      ]
    },
    {
      "cell_type": "code",
      "metadata": {
        "id": "ubzRBg875XZY"
      },
      "source": [
        "s8_grammar1 = nltk.CFG.fromstring(\"\"\"\n",
        "S -> NP VP | NP AUX VP \n",
        "NP -> PRO | NP CP | Det N | PRO | PRO | PRO | N |Det N\n",
        "VP -> V NP PP | V NP NP\n",
        "CP -> COMP S\n",
        "PP -> P NP \n",
        "Det -> 'the' | 'his' \n",
        "PRO -> 'he' | 'I' | 'him' \n",
        "N -> 'book' | 't' | 'sister'  \n",
        "V -> 'gave' | 'given'  \n",
        "COMP -> 'that'\n",
        "AUX -> 'had' \n",
        "P -> 'to'\n",
        "\"\"\")"
      ],
      "execution_count": 22,
      "outputs": []
    },
    {
      "cell_type": "code",
      "metadata": {
        "colab": {
          "base_uri": "https://localhost:8080/"
        },
        "id": "rf7WYkay5XZZ",
        "outputId": "7afd05af-67bc-4551-f369-6796fdbc3f13"
      },
      "source": [
        "sentence8 = word_tokenize(\"he gave the book that I had given him t to his sister\")\n",
        "parser = nltk.ChartParser(s8_grammar1)\n",
        "for i in parser.parse(sentence8):\n",
        "    print(i)"
      ],
      "execution_count": 23,
      "outputs": [
        {
          "output_type": "stream",
          "text": [
            "(S\n",
            "  (NP (PRO he))\n",
            "  (VP\n",
            "    (V gave)\n",
            "    (NP\n",
            "      (NP (Det the) (N book))\n",
            "      (CP\n",
            "        (COMP that)\n",
            "        (S\n",
            "          (NP (PRO I))\n",
            "          (AUX had)\n",
            "          (VP (V given) (NP (PRO him)) (NP (N t))))))\n",
            "    (PP (P to) (NP (Det his) (N sister)))))\n"
          ],
          "name": "stdout"
        }
      ]
    },
    {
      "cell_type": "code",
      "metadata": {
        "colab": {
          "base_uri": "https://localhost:8080/",
          "height": 373
        },
        "id": "1qxgW6Sq5XZa",
        "outputId": "1ba9bb5c-e992-4909-9b0a-03ca45ec56d0"
      },
      "source": [
        "np8 =nltk.Tree.fromstring('(S(NP (PRO he))(VP(V gave)(NP(NP (Det the) (N book))(CP(COMP that)(S(NP (PRO I))(AUX had)(VP (V given) (NP (PRO him)) (NP (N t))))))(PP (P to) (NP (Det his) (N sister)))))')\n",
        "display(np8)"
      ],
      "execution_count": 24,
      "outputs": [
        {
          "output_type": "display_data",
          "data": {
            "image/png": "[encoded data removed]",
            "text/plain": [
              "Tree('S', [Tree('NP', [Tree('PRO', ['he'])]), Tree('VP', [Tree('V', ['gave']), Tree('NP', [Tree('NP', [Tree('Det', ['the']), Tree('N', ['book'])]), Tree('CP', [Tree('COMP', ['that']), Tree('S', [Tree('NP', [Tree('PRO', ['I'])]), Tree('AUX', ['had']), Tree('VP', [Tree('V', ['given']), Tree('NP', [Tree('PRO', ['him'])]), Tree('NP', [Tree('N', ['t'])])])])])]), Tree('PP', [Tree('P', ['to']), Tree('NP', [Tree('Det', ['his']), Tree('N', ['sister'])])])])])"
            ]
          },
          "metadata": {
            "tags": []
          }
        }
      ]
    },
    {
      "cell_type": "markdown",
      "metadata": {
        "id": "A6Ar7hzf5XZa"
      },
      "source": [
        "### (s9)Homer and Marge are poor but very happy"
      ]
    },
    {
      "cell_type": "code",
      "metadata": {
        "id": "SKzBZNyr5XZb"
      },
      "source": [
        "s9_grammar1 = nltk.CFG.fromstring(\"\"\"\n",
        "S -> NP VP \n",
        "NP -> NP CONJ NP | N | N \n",
        "VP -> V ADJP \n",
        "ADJP -> ADJP CONJ ADJP | ADJ | ADV ADJ \n",
        "N -> 'Homer' | 'Marge'  \n",
        "V -> 'are'   \n",
        "CONJ -> 'and' | 'but'\n",
        "ADJ -> 'poor' | 'happy'\n",
        "ADV -> 'very'\n",
        "\"\"\")"
      ],
      "execution_count": 25,
      "outputs": []
    },
    {
      "cell_type": "code",
      "metadata": {
        "colab": {
          "base_uri": "https://localhost:8080/"
        },
        "id": "89DdekWW5XZc",
        "outputId": "45d3eff1-7b8c-4ebd-a886-77b914995326"
      },
      "source": [
        "sentence9 = word_tokenize(\"Homer and Marge are poor but very happy\")\n",
        "parser = nltk.ChartParser(s9_grammar1)\n",
        "for i in parser.parse(sentence9):\n",
        "    print(i)"
      ],
      "execution_count": 26,
      "outputs": [
        {
          "output_type": "stream",
          "text": [
            "(S\n",
            "  (NP (NP (N Homer)) (CONJ and) (NP (N Marge)))\n",
            "  (VP\n",
            "    (V are)\n",
            "    (ADJP (ADJP (ADJ poor)) (CONJ but) (ADJP (ADV very) (ADJ happy)))))\n"
          ],
          "name": "stdout"
        }
      ]
    },
    {
      "cell_type": "code",
      "metadata": {
        "colab": {
          "base_uri": "https://localhost:8080/",
          "height": 250
        },
        "id": "Bz2Z6-W05XZd",
        "outputId": "9c69f7f4-b83c-45c7-8fd9-3ab20cfc16de"
      },
      "source": [
        "np9 =nltk.Tree.fromstring('(S(NP (NP (N Homer)) (CONJ and) (NP (N Marge)))(VP(V are)(ADJP (ADJP (ADJ poor)) (CONJ but) (ADJP (ADV very) (ADJ happy)))))')\n",
        "display(np9)"
      ],
      "execution_count": 27,
      "outputs": [
        {
          "output_type": "display_data",
          "data": {
            "image/png": "[encoded data removed]",
            "text/plain": [
              "Tree('S', [Tree('NP', [Tree('NP', [Tree('N', ['Homer'])]), Tree('CONJ', ['and']), Tree('NP', [Tree('N', ['Marge'])])]), Tree('VP', [Tree('V', ['are']), Tree('ADJP', [Tree('ADJP', [Tree('ADJ', ['poor'])]), Tree('CONJ', ['but']), Tree('ADJP', [Tree('ADV', ['very']), Tree('ADJ', ['happy'])])])])])"
            ]
          },
          "metadata": {
            "tags": []
          }
        }
      ]
    },
    {
      "cell_type": "markdown",
      "metadata": {
        "id": "MyghurwX5XZe"
      },
      "source": [
        "### (s10)Homer and his friends from work drank and sang in the bar"
      ]
    },
    {
      "cell_type": "code",
      "metadata": {
        "id": "n6mzTmQl5XZe"
      },
      "source": [
        "s10_grammar1 = nltk.CFG.fromstring(\"\"\"\n",
        "S -> NP VP \n",
        "NP -> NP CONJ NP | N | NP PP | Det N | N | Det N \n",
        "VP -> VP PP | VP CONJ VP | V | V \n",
        "PP -> P NP | P NP \n",
        "N -> 'Homer' | 'friends' | 'work' | 'bar'   \n",
        "V -> 'drank' | 'sang'  \n",
        "CONJ -> 'and' | 'and'\n",
        "Det -> 'his' | 'the'\n",
        "P -> 'from' | 'in'\n",
        "\"\"\")"
      ],
      "execution_count": 28,
      "outputs": []
    },
    {
      "cell_type": "code",
      "metadata": {
        "colab": {
          "base_uri": "https://localhost:8080/"
        },
        "id": "hYqO1lLl5XZf",
        "outputId": "dbc39778-6123-4f4d-863b-be487673a6a0"
      },
      "source": [
        "sentence10 = word_tokenize(\"Homer and his friends from work drank and sang in the bar\")\n",
        "parser = nltk.ChartParser(s10_grammar1)\n",
        "for i in parser.parse(sentence10):\n",
        "    print(i)"
      ],
      "execution_count": 29,
      "outputs": [
        {
          "output_type": "stream",
          "text": [
            "(S\n",
            "  (NP\n",
            "    (NP (NP (N Homer)) (CONJ and) (NP (Det his) (N friends)))\n",
            "    (PP (P from) (NP (N work))))\n",
            "  (VP\n",
            "    (VP (VP (V drank)) (CONJ and) (VP (V sang)))\n",
            "    (PP (P in) (NP (Det the) (N bar)))))\n",
            "(S\n",
            "  (NP\n",
            "    (NP (N Homer))\n",
            "    (CONJ and)\n",
            "    (NP (NP (Det his) (N friends)) (PP (P from) (NP (N work)))))\n",
            "  (VP\n",
            "    (VP (VP (V drank)) (CONJ and) (VP (V sang)))\n",
            "    (PP (P in) (NP (Det the) (N bar)))))\n",
            "(S\n",
            "  (NP\n",
            "    (NP (NP (N Homer)) (CONJ and) (NP (Det his) (N friends)))\n",
            "    (PP (P from) (NP (N work))))\n",
            "  (VP\n",
            "    (VP (V drank))\n",
            "    (CONJ and)\n",
            "    (VP (VP (V sang)) (PP (P in) (NP (Det the) (N bar))))))\n",
            "(S\n",
            "  (NP\n",
            "    (NP (N Homer))\n",
            "    (CONJ and)\n",
            "    (NP (NP (Det his) (N friends)) (PP (P from) (NP (N work)))))\n",
            "  (VP\n",
            "    (VP (V drank))\n",
            "    (CONJ and)\n",
            "    (VP (VP (V sang)) (PP (P in) (NP (Det the) (N bar))))))\n"
          ],
          "name": "stdout"
        }
      ]
    },
    {
      "cell_type": "code",
      "metadata": {
        "colab": {
          "base_uri": "https://localhost:8080/",
          "height": 291
        },
        "id": "CjPjDT865XZg",
        "outputId": "402f9948-3b24-4774-ddc2-9a8142dcdada"
      },
      "source": [
        "np10 =nltk.Tree.fromstring('(S(NP(NP (N Homer))(CONJ and)(NP (NP (Det his) (N friends)) (PP (P from) (NP (N work)))))(VP(VP (VP (V drank)) (CONJ and) (VP (V sang)))(PP (P in) (NP (Det the) (N bar)))))')\n",
        "display(np10)"
      ],
      "execution_count": 30,
      "outputs": [
        {
          "output_type": "display_data",
          "data": {
            "image/png": "[encoded data removed]",
            "text/plain": [
              "Tree('S', [Tree('NP', [Tree('NP', [Tree('N', ['Homer'])]), Tree('CONJ', ['and']), Tree('NP', [Tree('NP', [Tree('Det', ['his']), Tree('N', ['friends'])]), Tree('PP', [Tree('P', ['from']), Tree('NP', [Tree('N', ['work'])])])])]), Tree('VP', [Tree('VP', [Tree('VP', [Tree('V', ['drank'])]), Tree('CONJ', ['and']), Tree('VP', [Tree('V', ['sang'])])]), Tree('PP', [Tree('P', ['in']), Tree('NP', [Tree('Det', ['the']), Tree('N', ['bar'])])])])])"
            ]
          },
          "metadata": {
            "tags": []
          }
        }
      ]
    },
    {
      "cell_type": "markdown",
      "metadata": {
        "id": "sUOhbLcX5XZh"
      },
      "source": [
        "### (s11)Lisa told her brother that she liked peanut butter very much"
      ]
    },
    {
      "cell_type": "code",
      "metadata": {
        "id": "_5v6df3N5XZh"
      },
      "source": [
        "s11_grammar1 = nltk.CFG.fromstring(\"\"\"\n",
        "S -> NP VP | NP VP \n",
        "NP -> N | Det N | PRO | N N \n",
        "VP -> V NP CP | VP ADVP | V NP \n",
        "ADVP -> ADV ADV \n",
        "CP -> COMP S \n",
        "N -> 'Lisa' | 'brother' | 'peanut' | 'butter'    \n",
        "V -> 'told' | 'liked'  \n",
        "COMP -> 'that' \n",
        "Det -> 'her' \n",
        "PRO -> 'she' \n",
        "ADV -> 'very' | 'much'\n",
        "\"\"\")"
      ],
      "execution_count": 31,
      "outputs": []
    },
    {
      "cell_type": "code",
      "metadata": {
        "colab": {
          "base_uri": "https://localhost:8080/"
        },
        "id": "oKqiAL4E5XZi",
        "outputId": "33a3d4f7-7f2a-4c1a-bbcb-4acbb1958924"
      },
      "source": [
        "sentence11 = word_tokenize(\"Lisa told her brother that she liked peanut butter very much\")\n",
        "parser = nltk.ChartParser(s11_grammar1)\n",
        "for i in parser.parse(sentence11):\n",
        "    print(i)"
      ],
      "execution_count": 32,
      "outputs": [
        {
          "output_type": "stream",
          "text": [
            "(S\n",
            "  (NP (N Lisa))\n",
            "  (VP\n",
            "    (VP\n",
            "      (V told)\n",
            "      (NP (Det her) (N brother))\n",
            "      (CP\n",
            "        (COMP that)\n",
            "        (S (NP (PRO she)) (VP (V liked) (NP (N peanut) (N butter))))))\n",
            "    (ADVP (ADV very) (ADV much))))\n",
            "(S\n",
            "  (NP (N Lisa))\n",
            "  (VP\n",
            "    (V told)\n",
            "    (NP (Det her) (N brother))\n",
            "    (CP\n",
            "      (COMP that)\n",
            "      (S\n",
            "        (NP (PRO she))\n",
            "        (VP\n",
            "          (VP (V liked) (NP (N peanut) (N butter)))\n",
            "          (ADVP (ADV very) (ADV much)))))))\n"
          ],
          "name": "stdout"
        }
      ]
    },
    {
      "cell_type": "code",
      "metadata": {
        "colab": {
          "base_uri": "https://localhost:8080/",
          "height": 373
        },
        "id": "V1K9xlQQ5XZi",
        "outputId": "7c344278-1a7f-4081-9878-629c866db4e2"
      },
      "source": [
        "np11 =nltk.Tree.fromstring('(S(NP (N Lisa))(VP(V told)(NP (Det her) (N brother))(CP(COMP that)(S(NP (PRO she))(VP(VP (V liked) (NP (N peanut) (N butter)))(ADVP (ADV very) (ADV much)))))))')\n",
        "display(np11)"
      ],
      "execution_count": 33,
      "outputs": [
        {
          "output_type": "display_data",
          "data": {
            "image/png": "[encoded data removed]",
            "text/plain": [
              "Tree('S', [Tree('NP', [Tree('N', ['Lisa'])]), Tree('VP', [Tree('V', ['told']), Tree('NP', [Tree('Det', ['her']), Tree('N', ['brother'])]), Tree('CP', [Tree('COMP', ['that']), Tree('S', [Tree('NP', [Tree('PRO', ['she'])]), Tree('VP', [Tree('VP', [Tree('V', ['liked']), Tree('NP', [Tree('N', ['peanut']), Tree('N', ['butter'])])]), Tree('ADVP', [Tree('ADV', ['very']), Tree('ADV', ['much'])])])])])])])"
            ]
          },
          "metadata": {
            "tags": []
          }
        }
      ]
    },
    {
      "cell_type": "markdown",
      "metadata": {
        "id": "H60SlAEh5XZj"
      },
      "source": [
        "#### 2.Once a grammar is built, you can print it. Also, you can extract a set of production rules with the .productions() method. Unlike the .productions() method called on a Tree object, the resulting list should be duplicate-free. As before, each rule in the list is a production rule type. A rule has a left-hand side node (the parent node), which you can getto using the .lhs() method; the actual string label for the node can be accessed by calling .symbol() on the node object."
      ]
    },
    {
      "cell_type": "code",
      "metadata": {
        "id": "iBqVm5bf5XZk"
      },
      "source": [
        "grammer3 = nltk.CFG.fromstring(\"\"\" \n",
        "S -> NP VP\n",
        "NP -> N\n",
        "VP -> V\n",
        "N -> 'Homer'\n",
        "V -> 'sleeps'\n",
        "\"\"\")"
      ],
      "execution_count": null,
      "outputs": []
    },
    {
      "cell_type": "code",
      "metadata": {
        "id": "YcSs9Bcg5XZk",
        "outputId": "1f26deab-bb46-4397-ba0e-c5574e135100"
      },
      "source": [
        "print(grammer3)"
      ],
      "execution_count": null,
      "outputs": [
        {
          "output_type": "stream",
          "text": [
            "Grammar with 5 productions (start state = S)\n",
            "    S -> NP VP\n",
            "    NP -> N\n",
            "    VP -> V\n",
            "    N -> 'Homer'\n",
            "    V -> 'sleeps'\n"
          ],
          "name": "stdout"
        }
      ]
    },
    {
      "cell_type": "code",
      "metadata": {
        "id": "8AWVarts5XZk",
        "outputId": "9aceb904-4495-4a92-ac69-80503f180113"
      },
      "source": [
        "grammer3.productions()"
      ],
      "execution_count": null,
      "outputs": [
        {
          "output_type": "execute_result",
          "data": {
            "text/plain": [
              "[S -> NP VP, NP -> N, VP -> V, N -> 'Homer', V -> 'sleeps']"
            ]
          },
          "metadata": {
            "tags": []
          },
          "execution_count": 23
        }
      ]
    },
    {
      "cell_type": "code",
      "metadata": {
        "id": "GK8VHtBg5XZl"
      },
      "source": [
        "last_rule = grammer3.productions()[-1]"
      ],
      "execution_count": null,
      "outputs": []
    },
    {
      "cell_type": "code",
      "metadata": {
        "id": "EyPmCXqu5XZl",
        "outputId": "cf7b71e5-dba0-48a2-c417-85f364a17d4f"
      },
      "source": [
        "last_rule"
      ],
      "execution_count": null,
      "outputs": [
        {
          "output_type": "execute_result",
          "data": {
            "text/plain": [
              "V -> 'sleeps'"
            ]
          },
          "metadata": {
            "tags": []
          },
          "execution_count": 25
        }
      ]
    },
    {
      "cell_type": "code",
      "metadata": {
        "id": "dcuf-gBE5XZm",
        "outputId": "1bdf09ce-a6fd-431d-fa1b-f270b9cb3535"
      },
      "source": [
        "last_rule.is_lexical()"
      ],
      "execution_count": null,
      "outputs": [
        {
          "output_type": "execute_result",
          "data": {
            "text/plain": [
              "True"
            ]
          },
          "metadata": {
            "tags": []
          },
          "execution_count": 26
        }
      ]
    },
    {
      "cell_type": "code",
      "metadata": {
        "id": "utzbplYR5XZm",
        "outputId": "c7123e26-a41e-4982-b929-45d7dacdee83"
      },
      "source": [
        "last_rule.lhs()"
      ],
      "execution_count": null,
      "outputs": [
        {
          "output_type": "execute_result",
          "data": {
            "text/plain": [
              "V"
            ]
          },
          "metadata": {
            "tags": []
          },
          "execution_count": 27
        }
      ]
    },
    {
      "cell_type": "code",
      "metadata": {
        "id": "vGRmWKL-5XZn",
        "outputId": "cef303a3-cef1-46e6-8397-658f3aaca18a"
      },
      "source": [
        "last_rule.lhs().symbol()"
      ],
      "execution_count": null,
      "outputs": [
        {
          "output_type": "execute_result",
          "data": {
            "text/plain": [
              "'V'"
            ]
          },
          "metadata": {
            "tags": []
          },
          "execution_count": 28
        }
      ]
    },
    {
      "cell_type": "markdown",
      "metadata": {
        "id": "dIO2OIKE5XZn"
      },
      "source": [
        "## 3.Explore the rules and answer the following questions."
      ]
    },
    {
      "cell_type": "code",
      "metadata": {
        "id": "g-pZRtEf5XZo"
      },
      "source": [
        "Grammar_all = nltk.CFG.fromstring(\"\"\"\n",
        "S -> NP VP | NP AUX VP\n",
        "NP -> Det ADJ N | N | PRO | Det N | PRO | NP CP | PRO | NP CONJ | NP PP | N N \n",
        "VP -> V NP | VP PP | V NP PP | V NP | V ADJP | VP PP | VP CONJ | V NP CP | VP ADVP \n",
        "CP -> COMP S\n",
        "PP -> P NP\n",
        "Det -> 'the' | 'his' | 'her'\n",
        "ADJ -> 'big' | 'tiny' | 'nerdy' | 'poor' | 'happy'\n",
        "ADV -> 'very' | 'much'\n",
        "PRO -> 'he' | 'I' | 'him' | 'she'\n",
        "ADJP -> ADJP CONJ | ADJ\n",
        "ADVP -> ADV\n",
        "N -> 'bully' | 'kid' | 'school' | 'book' | 'sister' | 't' | 'Homer' | 'Marge'| 'friends' | 'work' | 'bar' | 'Lisa' | 'brother' | 'peanut' | 'butter'\n",
        "V -> 'punched' | 'gave' | 'given' | 'are' | 'drank' | 'sang' | 'told' | 'liked'\n",
        "CONJ -> 'and' | 'but'\n",
        "COMP -> 'that'\n",
        "AUX -> 'had'\n",
        "P -> 'after' | 'to' | 'from' | 'in'\n",
        "\"\"\")"
      ],
      "execution_count": 34,
      "outputs": []
    },
    {
      "cell_type": "markdown",
      "metadata": {
        "id": "VUGFBiIA5XZp"
      },
      "source": [
        "#### a. What is the start state of your grammar?"
      ]
    },
    {
      "cell_type": "code",
      "metadata": {
        "colab": {
          "base_uri": "https://localhost:8080/"
        },
        "id": "Yivv6Yay5XZq",
        "outputId": "47680b7f-e407-47f8-cd39-024545648d53"
      },
      "source": [
        "Grammar_all.productions()[0].lhs()"
      ],
      "execution_count": 35,
      "outputs": [
        {
          "output_type": "execute_result",
          "data": {
            "text/plain": [
              "S"
            ]
          },
          "metadata": {
            "tags": []
          },
          "execution_count": 35
        }
      ]
    },
    {
      "cell_type": "markdown",
      "metadata": {
        "id": "_aoSM-DH5XZq"
      },
      "source": [
        "#### b. How many CF rules are in your grammar?"
      ]
    },
    {
      "cell_type": "code",
      "metadata": {
        "colab": {
          "base_uri": "https://localhost:8080/"
        },
        "id": "bnarM0xC5XZr",
        "outputId": "1bf2841a-cce6-4053-bb40-daa0d859a8a7"
      },
      "source": [
        "len(Grammar_all.productions())"
      ],
      "execution_count": 36,
      "outputs": [
        {
          "output_type": "execute_result",
          "data": {
            "text/plain": [
              "71"
            ]
          },
          "metadata": {
            "tags": []
          },
          "execution_count": 36
        }
      ]
    },
    {
      "cell_type": "markdown",
      "metadata": {
        "id": "0wrrz2wC5XZr"
      },
      "source": [
        "#### c. How many of them are lexical?"
      ]
    },
    {
      "cell_type": "code",
      "metadata": {
        "colab": {
          "base_uri": "https://localhost:8080/"
        },
        "id": "8haKkO-I5XZs",
        "outputId": "8bb0053d-5b0e-4a20-adf5-721a102145a3"
      },
      "source": [
        "n=0\n",
        "for x in Grammar_all.productions():\n",
        "    if x.is_lexical():\n",
        "        n = n+1\n",
        "print(\"How many of them are lexical?  \",n)"
      ],
      "execution_count": 37,
      "outputs": [
        {
          "output_type": "stream",
          "text": [
            "How many of them are lexical?   45\n"
          ],
          "name": "stdout"
        }
      ]
    },
    {
      "cell_type": "markdown",
      "metadata": {
        "id": "714cwQNT5XZs"
      },
      "source": [
        "#### d. How many VP rules are there? That is, how many rules have 'VP' on the left-hand side of the rule? That is, how many rules are of the VP -> ... form?"
      ]
    },
    {
      "cell_type": "code",
      "metadata": {
        "colab": {
          "base_uri": "https://localhost:8080/"
        },
        "id": "BukeGR6V5XZt",
        "outputId": "d921560a-7202-46b5-9aac-f04c2eddca67"
      },
      "source": [
        "n=0\n",
        "for x in Grammar_all.productions():\n",
        "    if x.lhs().symbol() == 'VP':\n",
        "        n = n+1\n",
        "n "
      ],
      "execution_count": 38,
      "outputs": [
        {
          "output_type": "execute_result",
          "data": {
            "text/plain": [
              "9"
            ]
          },
          "metadata": {
            "tags": []
          },
          "execution_count": 38
        }
      ]
    },
    {
      "cell_type": "markdown",
      "metadata": {
        "id": "HMi2dwei5XZt"
      },
      "source": [
        "#### e. How many V rules are there? That is, how many rules have 'V' on the left-hand side of the fule? That is, how many rules are of the V -> ... form?"
      ]
    },
    {
      "cell_type": "code",
      "metadata": {
        "colab": {
          "base_uri": "https://localhost:8080/"
        },
        "id": "IHORDVr25XZu",
        "outputId": "5aa4a0cd-e135-48b7-da15-4ddd5a628b0e"
      },
      "source": [
        "n=0\n",
        "for x in Grammar_all.productions():\n",
        "    if x.lhs().symbol() == 'V':\n",
        "        n = n+1\n",
        "n    "
      ],
      "execution_count": 39,
      "outputs": [
        {
          "output_type": "execute_result",
          "data": {
            "text/plain": [
              "8"
            ]
          },
          "metadata": {
            "tags": []
          },
          "execution_count": 39
        }
      ]
    },
    {
      "cell_type": "markdown",
      "metadata": {
        "id": "N8so5IbQ5XZu"
      },
      "source": [
        "### 4.Using grammar1, build a chart parser."
      ]
    },
    {
      "cell_type": "code",
      "metadata": {
        "colab": {
          "base_uri": "https://localhost:8080/"
        },
        "id": "1ffqh_Qi5XZv",
        "outputId": "b082b241-d04c-444c-d58e-afda2706b81f"
      },
      "source": [
        "sentence = word_tokenize(\"Lisa told her brother that she liked peanut butter very much\")\n",
        "parser = nltk.ChartParser(Grammar_all)\n",
        "for i in parser.parse(sentence):\n",
        "    print(i)"
      ],
      "execution_count": 41,
      "outputs": [
        {
          "output_type": "stream",
          "text": [
            "(S\n",
            "  (NP (N Lisa))\n",
            "  (VP\n",
            "    (V told)\n",
            "    (NP (Det her) (N brother))\n",
            "    (CP\n",
            "      (COMP that)\n",
            "      (S\n",
            "        (NP (PRO she))\n",
            "        (VP\n",
            "          (VP\n",
            "            (VP (V liked) (NP (N peanut) (N butter)))\n",
            "            (ADVP (ADV very)))\n",
            "          (ADVP (ADV much)))))))\n",
            "(S\n",
            "  (NP (N Lisa))\n",
            "  (VP\n",
            "    (V told)\n",
            "    (NP\n",
            "      (NP (Det her) (N brother))\n",
            "      (CP\n",
            "        (COMP that)\n",
            "        (S\n",
            "          (NP (PRO she))\n",
            "          (VP\n",
            "            (VP\n",
            "              (VP (V liked) (NP (N peanut) (N butter)))\n",
            "              (ADVP (ADV very)))\n",
            "            (ADVP (ADV much))))))))\n",
            "(S\n",
            "  (NP (N Lisa))\n",
            "  (VP\n",
            "    (VP\n",
            "      (VP\n",
            "        (V told)\n",
            "        (NP (Det her) (N brother))\n",
            "        (CP\n",
            "          (COMP that)\n",
            "          (S\n",
            "            (NP (PRO she))\n",
            "            (VP (V liked) (NP (N peanut) (N butter))))))\n",
            "      (ADVP (ADV very)))\n",
            "    (ADVP (ADV much))))\n",
            "(S\n",
            "  (NP (N Lisa))\n",
            "  (VP\n",
            "    (VP\n",
            "      (VP\n",
            "        (V told)\n",
            "        (NP\n",
            "          (NP (Det her) (N brother))\n",
            "          (CP\n",
            "            (COMP that)\n",
            "            (S\n",
            "              (NP (PRO she))\n",
            "              (VP (V liked) (NP (N peanut) (N butter)))))))\n",
            "      (ADVP (ADV very)))\n",
            "    (ADVP (ADV much))))\n",
            "(S\n",
            "  (NP (N Lisa))\n",
            "  (VP\n",
            "    (VP\n",
            "      (V told)\n",
            "      (NP (Det her) (N brother))\n",
            "      (CP\n",
            "        (COMP that)\n",
            "        (S\n",
            "          (NP (PRO she))\n",
            "          (VP\n",
            "            (VP (V liked) (NP (N peanut) (N butter)))\n",
            "            (ADVP (ADV very))))))\n",
            "    (ADVP (ADV much))))\n",
            "(S\n",
            "  (NP (N Lisa))\n",
            "  (VP\n",
            "    (VP\n",
            "      (V told)\n",
            "      (NP\n",
            "        (NP (Det her) (N brother))\n",
            "        (CP\n",
            "          (COMP that)\n",
            "          (S\n",
            "            (NP (PRO she))\n",
            "            (VP\n",
            "              (VP (V liked) (NP (N peanut) (N butter)))\n",
            "              (ADVP (ADV very)))))))\n",
            "    (ADVP (ADV much))))\n"
          ],
          "name": "stdout"
        }
      ]
    },
    {
      "cell_type": "code",
      "metadata": {
        "colab": {
          "base_uri": "https://localhost:8080/",
          "height": 250
        },
        "id": "mGZ989IP5XZv",
        "outputId": "62ba8569-6930-498b-c1b3-56d6c6cb4bb1"
      },
      "source": [
        "q41 =nltk.Tree.fromstring('(S (NP I) (VP (VP (V shot) (NP (Det an) (N elephant))) (PP (P in) (NP (Det my) (N pajamas)))))')\n",
        "display(q41)"
      ],
      "execution_count": 42,
      "outputs": [
        {
          "output_type": "display_data",
          "data": {
            "image/png": "[encoded data removed]",
            "text/plain": [
              "Tree('S', [Tree('NP', ['I']), Tree('VP', [Tree('VP', [Tree('V', ['shot']), Tree('NP', [Tree('Det', ['an']), Tree('N', ['elephant'])])]), Tree('PP', [Tree('P', ['in']), Tree('NP', [Tree('Det', ['my']), Tree('N', ['pajamas'])])])])])"
            ]
          },
          "metadata": {
            "tags": []
          }
        }
      ]
    },
    {
      "cell_type": "code",
      "metadata": {
        "colab": {
          "base_uri": "https://localhost:8080/",
          "height": 291
        },
        "id": "-Sc9vjdG5XZw",
        "outputId": "92c9871d-9824-4d65-8b2d-0c7240e9cb65"
      },
      "source": [
        "q42 =nltk.Tree.fromstring('(S (NP I) (VP (V shot) (NP (Det an) (N elephant) (PP (P in) (NP (Det my) (N pajamas))))))')\n",
        "display(q42)"
      ],
      "execution_count": 43,
      "outputs": [
        {
          "output_type": "display_data",
          "data": {
            "image/png": "[encoded data removed]",
            "text/plain": [
              "Tree('S', [Tree('NP', ['I']), Tree('VP', [Tree('V', ['shot']), Tree('NP', [Tree('Det', ['an']), Tree('N', ['elephant']), Tree('PP', [Tree('P', ['in']), Tree('NP', [Tree('Det', ['my']), Tree('N', ['pajamas'])])])])])])"
            ]
          },
          "metadata": {
            "tags": []
          }
        }
      ]
    },
    {
      "cell_type": "markdown",
      "metadata": {
        "id": "3Lm07RJi5XZx"
      },
      "source": [
        "### 5. Using the parser, parse the sentences s6 -- s11. If your grammar1 is built correctly to cover all of the sentences, the parser should successfully parse all of them."
      ]
    },
    {
      "cell_type": "code",
      "metadata": {
        "colab": {
          "base_uri": "https://localhost:8080/"
        },
        "id": "rtOXswwz5XZx",
        "outputId": "6a290615-ed25-438f-94ac-e35df9241066"
      },
      "source": [
        "!pip install simple-colors\n",
        "from simple_colors import *"
      ],
      "execution_count": 44,
      "outputs": [
        {
          "output_type": "stream",
          "text": [
            "Collecting simple-colors\n",
            "  Downloading https://files.pythonhosted.org/packages/0f/07/e6710827a51f6bb5ef671f84db98275b122ae3e382726041c823bead1a84/simple_colors-0.1.5-py3-none-any.whl\n",
            "Installing collected packages: simple-colors\n",
            "Successfully installed simple-colors-0.1.5\n"
          ],
          "name": "stdout"
        }
      ]
    },
    {
      "cell_type": "code",
      "metadata": {
        "colab": {
          "base_uri": "https://localhost:8080/"
        },
        "id": "TuvhD52C5XZy",
        "outputId": "40377e21-f598-49ab-c782-6443597eb6a5"
      },
      "source": [
        "print(black(\"(s6):the big bully punched the tiny nerdy kid after school\",\"bold\"))\n",
        "print(\"\\n\")\n",
        "sent6 = word_tokenize(\"the big bully punched the tiny nerdy kid after school\")\n",
        "parser = nltk.ChartParser(Grammar_1)\n",
        "for i in parser.parse(sent6):\n",
        "    print(i)\n",
        "print(\"------------------------------------------------------------------------------\")\n",
        "print(\"\\n\")\n",
        "print(black(\"(s7):he gave the book to his sister\",\"bold\"))\n",
        "print(\"\\n\")\n",
        "sent7 = word_tokenize(\"he gave the book to his sister\")\n",
        "parser = nltk.ChartParser(Grammar_1)\n",
        "for i in parser.parse(sent7):\n",
        "    print(i)\n",
        "print(\"------------------------------------------------------------------------------\")\n",
        "print(\"\\n\")\n",
        "print(black(\"(s8):he gave the book that I had given him t to his sister\",\"bold\"))\n",
        "print(\"\\n\")\n",
        "sent8 = word_tokenize(\"he gave the book that I had given him t to his sister\")\n",
        "parser = nltk.ChartParser(Grammar_1)\n",
        "for i in parser.parse(sent8):\n",
        "    print(i)\n",
        "print(\"------------------------------------------------------------------------------\")\n",
        "print(\"\\n\")\n",
        "print(black(\"(s9):Homer and Marge are poor but very happy\",\"bold\"))\n",
        "print(\"\\n\")\n",
        "sent9 = word_tokenize(\"Homer and Marge are poor but very happy\")\n",
        "parser = nltk.ChartParser(Grammar_1)\n",
        "for i in parser.parse(sent9):\n",
        "    print(i)\n",
        "print(\"------------------------------------------------------------------------------\")\n",
        "print(\"\\n\")\n",
        "print(black(\"(s10):Homer and his friends from work drank and sang in the bar\",\"bold\"))\n",
        "print(\"\\n\")\n",
        "sent10 = word_tokenize(\"Homer and his friends from work drank and sang in the bar\")\n",
        "parser = nltk.ChartParser(Grammar_1)\n",
        "for i in parser.parse(sent10):\n",
        "    print(i)\n",
        "print(\"------------------------------------------------------------------------------\")\n",
        "print(\"\\n\")\n",
        "print(black(\"(s11):Lisa told her brother that she liked peanut butter very much\",\"bold\"))\n",
        "print(\"\\n\")\n",
        "sent11 = word_tokenize(\"Lisa told her brother that she liked peanut butter very much\")\n",
        "parser = nltk.ChartParser(Grammar_1)\n",
        "for i in parser.parse(sent11):\n",
        "    print(i)"
      ],
      "execution_count": 45,
      "outputs": [
        {
          "output_type": "stream",
          "text": [
            "\u001b[1;30m(s6):the big bully punched the tiny nerdy kid after school\u001b[0m\n",
            "\n",
            "\n",
            "(S\n",
            "  (NP (Det the) (ADJ big) (N bully))\n",
            "  (VP\n",
            "    (VP (V punched) (NP (Det the) (ADJ tiny) (ADJ nerdy) (N kid)))\n",
            "    (PP (P after) (NP (N school)))))\n",
            "(S\n",
            "  (NP (Det the) (ADJ big) (N bully))\n",
            "  (VP\n",
            "    (V punched)\n",
            "    (NP (Det the) (ADJ tiny) (ADJ nerdy) (N kid))\n",
            "    (PP (P after) (NP (N school)))))\n",
            "(S\n",
            "  (NP (Det the) (ADJ big) (N bully))\n",
            "  (VP\n",
            "    (V punched)\n",
            "    (NP\n",
            "      (NP (Det the) (ADJ tiny) (ADJ nerdy) (N kid))\n",
            "      (PP (P after) (NP (N school))))))\n",
            "------------------------------------------------------------------------------\n",
            "\n",
            "\n",
            "\u001b[1;30m(s7):he gave the book to his sister\u001b[0m\n",
            "\n",
            "\n",
            "(S\n",
            "  (NP (PRO he))\n",
            "  (VP\n",
            "    (VP (V gave) (NP (Det the) (N book)))\n",
            "    (PP (P to) (NP (Det his) (N sister)))))\n",
            "(S\n",
            "  (NP (PRO he))\n",
            "  (VP\n",
            "    (V gave)\n",
            "    (NP (Det the) (N book))\n",
            "    (PP (P to) (NP (Det his) (N sister)))))\n",
            "(S\n",
            "  (NP (PRO he))\n",
            "  (VP\n",
            "    (V gave)\n",
            "    (NP\n",
            "      (NP (Det the) (N book))\n",
            "      (PP (P to) (NP (Det his) (N sister))))))\n",
            "------------------------------------------------------------------------------\n",
            "\n",
            "\n",
            "\u001b[1;30m(s8):he gave the book that I had given him t to his sister\u001b[0m\n",
            "\n",
            "\n",
            "(S\n",
            "  (NP (PRO he))\n",
            "  (VP\n",
            "    (V gave)\n",
            "    (NP\n",
            "      (NP (Det the) (N book))\n",
            "      (CP\n",
            "        (COMP that)\n",
            "        (S\n",
            "          (NP (PRO I))\n",
            "          (AUX had)\n",
            "          (VP (V given) (NP (PRO him)) (NP (N t))))))\n",
            "    (PP (P to) (NP (Det his) (N sister)))))\n",
            "(S\n",
            "  (NP (PRO he))\n",
            "  (VP\n",
            "    (V gave)\n",
            "    (NP\n",
            "      (NP\n",
            "        (NP (Det the) (N book))\n",
            "        (CP\n",
            "          (COMP that)\n",
            "          (S\n",
            "            (NP (PRO I))\n",
            "            (AUX had)\n",
            "            (VP (V given) (NP (PRO him)) (NP (N t))))))\n",
            "      (PP (P to) (NP (Det his) (N sister))))))\n",
            "(S\n",
            "  (NP (PRO he))\n",
            "  (VP\n",
            "    (V gave)\n",
            "    (NP\n",
            "      (NP (Det the) (N book))\n",
            "      (CP\n",
            "        (COMP that)\n",
            "        (S\n",
            "          (NP (PRO I))\n",
            "          (AUX had)\n",
            "          (VP\n",
            "            (VP (V given) (NP (PRO him)) (NP (N t)))\n",
            "            (PP (P to) (NP (Det his) (N sister)))))))))\n",
            "(S\n",
            "  (NP (PRO he))\n",
            "  (VP\n",
            "    (V gave)\n",
            "    (NP\n",
            "      (NP (Det the) (N book))\n",
            "      (CP\n",
            "        (COMP that)\n",
            "        (S\n",
            "          (NP (PRO I))\n",
            "          (AUX had)\n",
            "          (VP\n",
            "            (V given)\n",
            "            (NP (PRO him))\n",
            "            (NP (NP (N t)) (PP (P to) (NP (Det his) (N sister))))))))))\n",
            "(S\n",
            "  (NP (PRO he))\n",
            "  (VP\n",
            "    (V gave)\n",
            "    (NP (Det the) (N book))\n",
            "    (CP\n",
            "      (COMP that)\n",
            "      (S\n",
            "        (NP (PRO I))\n",
            "        (AUX had)\n",
            "        (VP\n",
            "          (VP (V given) (NP (PRO him)) (NP (N t)))\n",
            "          (PP (P to) (NP (Det his) (N sister))))))))\n",
            "(S\n",
            "  (NP (PRO he))\n",
            "  (VP\n",
            "    (V gave)\n",
            "    (NP (Det the) (N book))\n",
            "    (CP\n",
            "      (COMP that)\n",
            "      (S\n",
            "        (NP (PRO I))\n",
            "        (AUX had)\n",
            "        (VP\n",
            "          (V given)\n",
            "          (NP (PRO him))\n",
            "          (NP (NP (N t)) (PP (P to) (NP (Det his) (N sister)))))))))\n",
            "(S\n",
            "  (NP (PRO he))\n",
            "  (VP\n",
            "    (VP\n",
            "      (V gave)\n",
            "      (NP\n",
            "        (NP (Det the) (N book))\n",
            "        (CP\n",
            "          (COMP that)\n",
            "          (S (NP (PRO I)) (AUX had) (VP (V given) (NP (PRO him))))))\n",
            "      (NP (N t)))\n",
            "    (PP (P to) (NP (Det his) (N sister)))))\n",
            "(S\n",
            "  (NP (PRO he))\n",
            "  (VP\n",
            "    (VP\n",
            "      (V gave)\n",
            "      (NP (Det the) (N book))\n",
            "      (CP\n",
            "        (COMP that)\n",
            "        (S\n",
            "          (NP (PRO I))\n",
            "          (AUX had)\n",
            "          (VP (V given) (NP (PRO him)) (NP (N t))))))\n",
            "    (PP (P to) (NP (Det his) (N sister)))))\n",
            "(S\n",
            "  (NP (PRO he))\n",
            "  (VP\n",
            "    (VP\n",
            "      (V gave)\n",
            "      (NP\n",
            "        (NP (Det the) (N book))\n",
            "        (CP\n",
            "          (COMP that)\n",
            "          (S\n",
            "            (NP (PRO I))\n",
            "            (AUX had)\n",
            "            (VP (V given) (NP (PRO him)) (NP (N t)))))))\n",
            "    (PP (P to) (NP (Det his) (N sister)))))\n",
            "(S\n",
            "  (NP (PRO he))\n",
            "  (VP\n",
            "    (V gave)\n",
            "    (NP\n",
            "      (NP (Det the) (N book))\n",
            "      (CP\n",
            "        (COMP that)\n",
            "        (S (NP (PRO I)) (AUX had) (VP (V given) (NP (PRO him))))))\n",
            "    (NP (NP (N t)) (PP (P to) (NP (Det his) (N sister))))))\n",
            "------------------------------------------------------------------------------\n",
            "\n",
            "\n",
            "\u001b[1;30m(s9):Homer and Marge are poor but very happy\u001b[0m\n",
            "\n",
            "\n",
            "(S\n",
            "  (NP (NP (N Homer)) (CONJ and) (NP (N Marge)))\n",
            "  (VP\n",
            "    (V are)\n",
            "    (ADJP (ADJP (ADJ poor)) (CONJ but) (ADJP (ADV very) (ADJ happy)))))\n",
            "------------------------------------------------------------------------------\n",
            "\n",
            "\n",
            "\u001b[1;30m(s10):Homer and his friends from work drank and sang in the bar\u001b[0m\n",
            "\n",
            "\n",
            "(S\n",
            "  (NP\n",
            "    (NP (NP (N Homer)) (CONJ and) (NP (Det his) (N friends)))\n",
            "    (PP (P from) (NP (N work))))\n",
            "  (VP\n",
            "    (VP (VP (V drank)) (CONJ and) (VP (V sang)))\n",
            "    (PP (P in) (NP (Det the) (N bar)))))\n",
            "(S\n",
            "  (NP\n",
            "    (NP (N Homer))\n",
            "    (CONJ and)\n",
            "    (NP (NP (Det his) (N friends)) (PP (P from) (NP (N work)))))\n",
            "  (VP\n",
            "    (VP (VP (V drank)) (CONJ and) (VP (V sang)))\n",
            "    (PP (P in) (NP (Det the) (N bar)))))\n",
            "(S\n",
            "  (NP\n",
            "    (NP (NP (N Homer)) (CONJ and) (NP (Det his) (N friends)))\n",
            "    (PP (P from) (NP (N work))))\n",
            "  (VP\n",
            "    (VP (V drank))\n",
            "    (CONJ and)\n",
            "    (VP (VP (V sang)) (PP (P in) (NP (Det the) (N bar))))))\n",
            "(S\n",
            "  (NP\n",
            "    (NP (N Homer))\n",
            "    (CONJ and)\n",
            "    (NP (NP (Det his) (N friends)) (PP (P from) (NP (N work)))))\n",
            "  (VP\n",
            "    (VP (V drank))\n",
            "    (CONJ and)\n",
            "    (VP (VP (V sang)) (PP (P in) (NP (Det the) (N bar))))))\n",
            "------------------------------------------------------------------------------\n",
            "\n",
            "\n",
            "\u001b[1;30m(s11):Lisa told her brother that she liked peanut butter very much\u001b[0m\n",
            "\n",
            "\n",
            "(S\n",
            "  (NP (N Lisa))\n",
            "  (VP\n",
            "    (V told)\n",
            "    (NP (Det her) (N brother))\n",
            "    (CP\n",
            "      (COMP that)\n",
            "      (S\n",
            "        (NP (PRO she))\n",
            "        (VP\n",
            "          (VP (V liked) (NP (N peanut) (N butter)))\n",
            "          (ADVP (ADV very) (ADV much)))))))\n",
            "(S\n",
            "  (NP (N Lisa))\n",
            "  (VP\n",
            "    (V told)\n",
            "    (NP (Det her) (N brother))\n",
            "    (CP\n",
            "      (COMP that)\n",
            "      (S\n",
            "        (NP (PRO she))\n",
            "        (VP\n",
            "          (VP (V liked) (NP (N peanut)) (NP (N butter)))\n",
            "          (ADVP (ADV very) (ADV much)))))))\n",
            "(S\n",
            "  (NP (N Lisa))\n",
            "  (VP\n",
            "    (V told)\n",
            "    (NP\n",
            "      (NP (Det her) (N brother))\n",
            "      (CP\n",
            "        (COMP that)\n",
            "        (S\n",
            "          (NP (PRO she))\n",
            "          (VP\n",
            "            (VP (V liked) (NP (N peanut) (N butter)))\n",
            "            (ADVP (ADV very) (ADV much))))))))\n",
            "(S\n",
            "  (NP (N Lisa))\n",
            "  (VP\n",
            "    (V told)\n",
            "    (NP\n",
            "      (NP (Det her) (N brother))\n",
            "      (CP\n",
            "        (COMP that)\n",
            "        (S\n",
            "          (NP (PRO she))\n",
            "          (VP\n",
            "            (VP (V liked) (NP (N peanut)) (NP (N butter)))\n",
            "            (ADVP (ADV very) (ADV much))))))))\n",
            "(S\n",
            "  (NP (N Lisa))\n",
            "  (VP\n",
            "    (VP\n",
            "      (V told)\n",
            "      (NP\n",
            "        (NP (Det her) (N brother))\n",
            "        (CP (COMP that) (S (NP (PRO she)) (VP (V liked)))))\n",
            "      (NP (N peanut) (N butter)))\n",
            "    (ADVP (ADV very) (ADV much))))\n",
            "(S\n",
            "  (NP (N Lisa))\n",
            "  (VP\n",
            "    (VP\n",
            "      (V told)\n",
            "      (NP\n",
            "        (NP (Det her) (N brother))\n",
            "        (CP\n",
            "          (COMP that)\n",
            "          (S (NP (PRO she)) (VP (V liked) (NP (N peanut))))))\n",
            "      (NP (N butter)))\n",
            "    (ADVP (ADV very) (ADV much))))\n",
            "(S\n",
            "  (NP (N Lisa))\n",
            "  (VP\n",
            "    (VP\n",
            "      (V told)\n",
            "      (NP (Det her) (N brother))\n",
            "      (CP\n",
            "        (COMP that)\n",
            "        (S (NP (PRO she)) (VP (V liked) (NP (N peanut) (N butter))))))\n",
            "    (ADVP (ADV very) (ADV much))))\n",
            "(S\n",
            "  (NP (N Lisa))\n",
            "  (VP\n",
            "    (VP\n",
            "      (V told)\n",
            "      (NP (Det her) (N brother))\n",
            "      (CP\n",
            "        (COMP that)\n",
            "        (S\n",
            "          (NP (PRO she))\n",
            "          (VP (V liked) (NP (N peanut)) (NP (N butter))))))\n",
            "    (ADVP (ADV very) (ADV much))))\n",
            "(S\n",
            "  (NP (N Lisa))\n",
            "  (VP\n",
            "    (VP\n",
            "      (V told)\n",
            "      (NP\n",
            "        (NP (Det her) (N brother))\n",
            "        (CP\n",
            "          (COMP that)\n",
            "          (S\n",
            "            (NP (PRO she))\n",
            "            (VP (V liked) (NP (N peanut) (N butter)))))))\n",
            "    (ADVP (ADV very) (ADV much))))\n",
            "(S\n",
            "  (NP (N Lisa))\n",
            "  (VP\n",
            "    (VP\n",
            "      (V told)\n",
            "      (NP\n",
            "        (NP (Det her) (N brother))\n",
            "        (CP\n",
            "          (COMP that)\n",
            "          (S\n",
            "            (NP (PRO she))\n",
            "            (VP (V liked) (NP (N peanut)) (NP (N butter)))))))\n",
            "    (ADVP (ADV very) (ADV much))))\n"
          ],
          "name": "stdout"
        }
      ]
    },
    {
      "cell_type": "code",
      "metadata": {
        "id": "muyBc6oc5XZz"
      },
      "source": [
        ""
      ],
      "execution_count": null,
      "outputs": []
    }
  ]
}