{
 "cells": [
  {
   "cell_type": "markdown",
   "metadata": {},
   "source": [
    "## Lab11. Building Parse Trees\n",
    "### EXERCISE-1 \n",
    "#### Build the following three tree objects as np, aux, and vp. "
   ]
  },
  {
   "cell_type": "code",
   "execution_count": 1,
   "metadata": {},
   "outputs": [],
   "source": [
    "import nltk,re,pprint\n",
    "from nltk.tree import Tree\n",
    "from nltk.tokenize import word_tokenize\n",
    "from nltk.tag import pos_tag\n",
    "from nltk.chunk import ne_chunk\n",
    "import numpy as npt"
   ]
  },
  {
   "cell_type": "code",
   "execution_count": 2,
   "metadata": {},
   "outputs": [
    {
     "name": "stdout",
     "output_type": "stream",
     "text": [
      "  NP \n",
      "  |   \n",
      "  N  \n",
      "  |   \n",
      "Marge\n",
      "\n"
     ]
    }
   ],
   "source": [
    "np =nltk.Tree.fromstring('(NP (N Marge))')   #### np\n",
    "np.pretty_print()"
   ]
  },
  {
   "cell_type": "code",
   "execution_count": 4,
   "metadata": {},
   "outputs": [
    {
     "name": "stdout",
     "output_type": "stream",
     "text": [
      "AUX \n",
      " |   \n",
      "will\n",
      "\n"
     ]
    }
   ],
   "source": [
    "aux= nltk.Tree.fromstring('(AUX will)')      #### aux\n",
    "aux.pretty_print()"
   ]
  },
  {
   "cell_type": "code",
   "execution_count": 3,
   "metadata": {},
   "outputs": [
    {
     "name": "stdout",
     "output_type": "stream",
     "text": [
      "          VP             \n",
      "  ________|___            \n",
      " |            NP         \n",
      " |     _______|_____      \n",
      " V   DET      N     N    \n",
      " |    |       |     |     \n",
      "make  a      ham sandwich\n",
      "\n"
     ]
    }
   ],
   "source": [
    "vp = nltk.Tree.fromstring('(VP (V make) (NP (DET a) (N ham) (N sandwich)))') #### vp\n",
    "vp.pretty_print()"
   ]
  },
  {
   "cell_type": "markdown",
   "metadata": {},
   "source": [
    "### EXERCISE-3 \n",
    "#### Using them, build two tree objects, named s1 and s2, for the following sentences. The trees should look exactly like the ones shown below\n",
    "##### (s1) Marge will make a ham sandwich "
   ]
  },
  {
   "cell_type": "code",
   "execution_count": 5,
   "metadata": {},
   "outputs": [
    {
     "name": "stdout",
     "output_type": "stream",
     "text": [
      "            S                       \n",
      "   _________|________                \n",
      "  |    |             VP             \n",
      "  |    |     ________|___            \n",
      "  NP   |    |            NP         \n",
      "  |    |    |     _______|_____      \n",
      "  N   AUX   V   DET      N     N    \n",
      "  |    |    |    |       |     |     \n",
      "Marge will make  a      ham sandwich\n",
      "\n"
     ]
    }
   ],
   "source": [
    "s1 = nltk.Tree.fromstring('(S (NP (N Marge)) (AUX will) (VP (V make) (NP (DET a) (N ham) (N sandwich))))')\n",
    "s1.pretty_print()"
   ]
  },
  {
   "cell_type": "markdown",
   "metadata": {},
   "source": [
    "##### (s2) will Marge make a ham sandwich"
   ]
  },
  {
   "cell_type": "code",
   "execution_count": 6,
   "metadata": {},
   "outputs": [
    {
     "name": "stdout",
     "output_type": "stream",
     "text": [
      "            S                       \n",
      "  __________|________                \n",
      " |     |             VP             \n",
      " |     |     ________|___            \n",
      " |     NP   |            NP         \n",
      " |     |    |     _______|_____      \n",
      "AUX    N    V   DET      N     N    \n",
      " |     |    |    |       |     |     \n",
      "will Marge make  a      ham sandwich\n",
      "\n"
     ]
    }
   ],
   "source": [
    "s2 = nltk.Tree.fromstring('(S (AUX will) (NP (N Marge)) (VP (V make) (NP (DET a) (N ham) (N sandwich))))')\n",
    "s2.pretty_print()"
   ]
  },
  {
   "cell_type": "markdown",
   "metadata": {},
   "source": [
    "### EXERCISE-4 \n",
    "#### Build a tree object named s3 for the following sentence, using its full-sentence string representation. \n",
    "##### (s3) Homer ate the donut on the table"
   ]
  },
  {
   "cell_type": "code",
   "execution_count": 7,
   "metadata": {},
   "outputs": [
    {
     "name": "stdout",
     "output_type": "stream",
     "text": [
      "           S               \n",
      "   ________|___             \n",
      "  |            VP          \n",
      "  |     _______|___         \n",
      "  NP   |           NP      \n",
      "  |    |        ___|____    \n",
      "  N    V      DET       N  \n",
      "  |    |       |        |   \n",
      "Homer ate     the     donut\n",
      "\n"
     ]
    }
   ],
   "source": [
    "s3 = nltk.Tree.fromstring('(S (NP (N Homer)) (VP (V ate) (NP (DET the) (N donut))))')\n",
    "s3.pretty_print()"
   ]
  },
  {
   "cell_type": "markdown",
   "metadata": {},
   "source": [
    "### EXERCISE-5 \n",
    "#### Build tree objects named s4 and s5 for the following sentences. \n",
    "##### (s4) my old cat died on Tuesday "
   ]
  },
  {
   "cell_type": "code",
   "execution_count": 8,
   "metadata": {},
   "outputs": [
    {
     "name": "stdout",
     "output_type": "stream",
     "text": [
      "         S                      \n",
      "      ___|________               \n",
      "     |            VP            \n",
      "     |        ____|___           \n",
      "     |       |        PP        \n",
      "     |       |     ___|_____     \n",
      "     NP      VP   |         NP  \n",
      "  ___|___    |    |         |    \n",
      "DET ADJ  N   V    P         N   \n",
      " |   |   |   |    |         |    \n",
      " my old cat died  on     Tuesday\n",
      "\n"
     ]
    }
   ],
   "source": [
    "s4 = nltk.Tree.fromstring('(S (NP (DET my)(ADJ old)(N cat))(VP(VP(V died))(PP(P on)(NP(N Tuesday)))))')\n",
    "s4.pretty_print()"
   ]
  },
  {
   "cell_type": "markdown",
   "metadata": {},
   "source": [
    "##### (s5) children must play in the park with their friends"
   ]
  },
  {
   "cell_type": "code",
   "execution_count": 9,
   "metadata": {},
   "outputs": [
    {
     "name": "stdout",
     "output_type": "stream",
     "text": [
      "                        S                                 \n",
      "    ____________________|_______                           \n",
      "   |      |                     VP                        \n",
      "   |      |     ________________|__________                \n",
      "   |      |    |        PP                 PP             \n",
      "   |      |    |     ___|___          _____|____           \n",
      "   NP     |    VP   |       NP       |          NP        \n",
      "   |      |    |    |    ___|___     |      ____|_____     \n",
      "   N     AUX   V    P  DET      N    P    DET         N   \n",
      "   |      |    |    |   |       |    |     |          |    \n",
      "children must play  in the     park with their     friends\n",
      "\n"
     ]
    }
   ],
   "source": [
    "s5 = nltk.Tree.fromstring('(S(NP (N children))(AUX must)(VP(VP(V play))(PP(P in)(NP(DET the)(N park)))(PP (P with)(NP (DET their)(N friends)))))')\n",
    "s5.pretty_print()"
   ]
  },
  {
   "cell_type": "markdown",
   "metadata": {},
   "source": [
    "### EXERCISE-6 \n",
    "#### Once a tree is built, you can extract a list of context-free rules, generally called production rules, from it using the .productions() method. Each CF rule in the list is either lexical, i.e, contains a lexical word on its right-hand side, or not: "
   ]
  },
  {
   "cell_type": "code",
   "execution_count": 10,
   "metadata": {},
   "outputs": [
    {
     "name": "stdout",
     "output_type": "stream",
     "text": [
      "(VP (V make) (NP (DET a) (N ham) (N sandwich)))\n"
     ]
    }
   ],
   "source": [
    "print(vp)"
   ]
  },
  {
   "cell_type": "code",
   "execution_count": 11,
   "metadata": {},
   "outputs": [
    {
     "data": {
      "text/plain": [
       "[VP -> V NP,\n",
       " V -> 'make',\n",
       " NP -> DET N N,\n",
       " DET -> 'a',\n",
       " N -> 'ham',\n",
       " N -> 'sandwich']"
      ]
     },
     "execution_count": 11,
     "metadata": {},
     "output_type": "execute_result"
    }
   ],
   "source": [
    "vp_rules = vp.productions()\n",
    "vp_rules"
   ]
  },
  {
   "cell_type": "code",
   "execution_count": 12,
   "metadata": {},
   "outputs": [
    {
     "data": {
      "text/plain": [
       "VP -> V NP"
      ]
     },
     "execution_count": 12,
     "metadata": {},
     "output_type": "execute_result"
    }
   ],
   "source": [
    "vp_rules[0]"
   ]
  },
  {
   "cell_type": "code",
   "execution_count": 13,
   "metadata": {},
   "outputs": [
    {
     "data": {
      "text/plain": [
       "V -> 'make'"
      ]
     },
     "execution_count": 13,
     "metadata": {},
     "output_type": "execute_result"
    }
   ],
   "source": [
    "vp_rules[1]"
   ]
  },
  {
   "cell_type": "code",
   "execution_count": 14,
   "metadata": {},
   "outputs": [
    {
     "data": {
      "text/plain": [
       "False"
      ]
     },
     "execution_count": 14,
     "metadata": {},
     "output_type": "execute_result"
    }
   ],
   "source": [
    "vp_rules[0].is_lexical()"
   ]
  },
  {
   "cell_type": "code",
   "execution_count": 15,
   "metadata": {},
   "outputs": [
    {
     "data": {
      "text/plain": [
       "False"
      ]
     },
     "execution_count": 15,
     "metadata": {},
     "output_type": "execute_result"
    }
   ],
   "source": [
    "vp_rules[0].is_lexical()"
   ]
  },
  {
   "cell_type": "code",
   "execution_count": 16,
   "metadata": {},
   "outputs": [
    {
     "data": {
      "text/plain": [
       "True"
      ]
     },
     "execution_count": 16,
     "metadata": {},
     "output_type": "execute_result"
    }
   ],
   "source": [
    " vp_rules[1].is_lexical() "
   ]
  },
  {
   "cell_type": "markdown",
   "metadata": {},
   "source": [
    "#### Explore the CF rules of s5. Include in your script the answers to the following: "
   ]
  },
  {
   "cell_type": "code",
   "execution_count": 17,
   "metadata": {},
   "outputs": [
    {
     "name": "stdout",
     "output_type": "stream",
     "text": [
      "(S\n",
      "  (NP (N children))\n",
      "  (AUX must)\n",
      "  (VP\n",
      "    (VP (V play))\n",
      "    (PP (P in) (NP (DET the) (N park)))\n",
      "    (PP (P with) (NP (DET their) (N friends)))))\n"
     ]
    }
   ],
   "source": [
    "print(s5)"
   ]
  },
  {
   "cell_type": "code",
   "execution_count": 18,
   "metadata": {},
   "outputs": [
    {
     "data": {
      "text/plain": [
       "[S -> NP AUX VP,\n",
       " NP -> N,\n",
       " N -> 'children',\n",
       " AUX -> 'must',\n",
       " VP -> VP PP PP,\n",
       " VP -> V,\n",
       " V -> 'play',\n",
       " PP -> P NP,\n",
       " P -> 'in',\n",
       " NP -> DET N,\n",
       " DET -> 'the',\n",
       " N -> 'park',\n",
       " PP -> P NP,\n",
       " P -> 'with',\n",
       " NP -> DET N,\n",
       " DET -> 'their',\n",
       " N -> 'friends']"
      ]
     },
     "execution_count": 18,
     "metadata": {},
     "output_type": "execute_result"
    }
   ],
   "source": [
    "cf_s5_rules=s5.productions()\n",
    "cf_s5_rules"
   ]
  },
  {
   "cell_type": "markdown",
   "metadata": {},
   "source": [
    "#### a. How many CF rules are used in s5? "
   ]
  },
  {
   "cell_type": "code",
   "execution_count": 22,
   "metadata": {},
   "outputs": [
    {
     "name": "stdout",
     "output_type": "stream",
     "text": [
      "How Many CF values are used in s5   17\n"
     ]
    }
   ],
   "source": [
    "print(\"How Many CF values are used in s5  \",len(cf_s5_rules))"
   ]
  },
  {
   "cell_type": "markdown",
   "metadata": {},
   "source": [
    "#### b. How many unique CF rules are used in s5? "
   ]
  },
  {
   "cell_type": "code",
   "execution_count": 23,
   "metadata": {},
   "outputs": [
    {
     "name": "stdout",
     "output_type": "stream",
     "text": [
      "How Many unique CF rules are used in s5   15\n"
     ]
    }
   ],
   "source": [
    "x = npt.array(cf_s5_rules)\n",
    "print(\"How Many unique CF rules are used in s5  \",len(npt.unique(x)))"
   ]
  },
  {
   "cell_type": "markdown",
   "metadata": {},
   "source": [
    "#### c. How many of them are lexical?"
   ]
  },
  {
   "cell_type": "code",
   "execution_count": 25,
   "metadata": {},
   "outputs": [
    {
     "name": "stdout",
     "output_type": "stream",
     "text": [
      "How many of them are lexical?   9\n"
     ]
    }
   ],
   "source": [
    "n=0\n",
    "for x in cf_s5_rules:\n",
    "  if x.is_lexical():\n",
    "    n = n+1\n",
    "print(\"How many of them are lexical?  \",n)    "
   ]
  }
 ],
 "metadata": {
  "kernelspec": {
   "display_name": "Python 3",
   "language": "python",
   "name": "python3"
  },
  "language_info": {
   "codemirror_mode": {
    "name": "ipython",
    "version": 3
   },
   "file_extension": ".py",
   "mimetype": "text/x-python",
   "name": "python",
   "nbconvert_exporter": "python",
   "pygments_lexer": "ipython3",
   "version": "3.8.5"
  }
 },
 "nbformat": 4,
 "nbformat_minor": 4
}
