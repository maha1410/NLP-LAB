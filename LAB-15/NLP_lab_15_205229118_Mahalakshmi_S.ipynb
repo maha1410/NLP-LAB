{
 "cells": [
  {
   "cell_type": "markdown",
   "metadata": {
    "id": "tH-vao37Biip"
   },
   "source": [
    "## Lab15. Text Processing using SpaCy"
   ]
  },
  {
   "cell_type": "markdown",
   "metadata": {
    "id": "9Qn_UeOMBii4"
   },
   "source": [
    "### EXERCISES \n",
    "### Question 1. Print the tokens of the string, “welcome all of you for this NLP with spacy course”"
   ]
  },
  {
   "cell_type": "code",
   "execution_count": 1,
   "metadata": {
    "id": "RtN27WU0Bii6"
   },
   "outputs": [],
   "source": [
    "import spacy\n",
    "nlp = spacy.load(\"en_core_web_sm\")"
   ]
  },
  {
   "cell_type": "code",
   "execution_count": 2,
   "metadata": {
    "colab": {
     "base_uri": "https://localhost:8080/"
    },
    "id": "l5aHX75ZBii8",
    "outputId": "591f1a40-bec2-49cb-b8c3-7b043d85bd50"
   },
   "outputs": [
    {
     "name": "stdout",
     "output_type": "stream",
     "text": [
      "welcome VERB ROOT\n",
      "all DET dobj\n",
      "of ADP prep\n",
      "you PRON pobj\n",
      "for ADP prep\n",
      "this DET det\n",
      "NLP PROPN pobj\n",
      "with ADP prep\n",
      "spacy NOUN compound\n",
      "course NOUN pobj\n"
     ]
    }
   ],
   "source": [
    "doc = nlp(\"welcome all of you for this NLP with spacy course\") \n",
    "for token in doc:\n",
    "    print(token.text, token.pos_, token.dep_)"
   ]
  },
  {
   "cell_type": "markdown",
   "metadata": {
    "id": "gj-iumIsBii9"
   },
   "source": [
    "### Question 3. Consider the following sentences and print each sentence in one line "
   ]
  },
  {
   "cell_type": "code",
   "execution_count": 3,
   "metadata": {
    "id": "7rEZ8y8GBii-"
   },
   "outputs": [],
   "source": [
    "my_text = ('Rajkumar Kannan is a ML developer currently'\n",
    "    ' working for a London-based Edtech'\n",
    "    ' company. He is interested in learning'\n",
    "    ' Natural Language Processing.'\n",
    "    ' He keeps organizing local Python meetups'\n",
    "    ' and several internal talks at his workplace.')"
   ]
  },
  {
   "cell_type": "markdown",
   "metadata": {
    "id": "Td0cpeKaBii_"
   },
   "source": [
    "### Question 4. For the list of strings from my_text, print the following for each token:"
   ]
  },
  {
   "cell_type": "code",
   "execution_count": 4,
   "metadata": {
    "colab": {
     "base_uri": "https://localhost:8080/"
    },
    "id": "69BifPVcBii_",
    "outputId": "34a8e225-61bb-4c98-b390-4bff137e625f"
   },
   "outputs": [
    {
     "name": "stdout",
     "output_type": "stream",
     "text": [
      "Rajkumar Rajkumar PROPN NNP compound Xxxxx True False\n",
      "Kannan Kannan PROPN NNP nsubj Xxxxx True False\n",
      "is be AUX VBZ ROOT xx True True\n",
      "a a DET DT det x True True\n",
      "ML ML PROPN NNP compound XX True False\n",
      "developer developer NOUN NN attr xxxx True False\n",
      "currently currently ADV RB advmod xxxx True False\n",
      "working work VERB VBG acl xxxx True False\n",
      "for for ADP IN prep xxx True True\n",
      "a a DET DT det x True True\n",
      "London London PROPN NNP npadvmod Xxxxx True False\n",
      "- - PUNCT HYPH punct - False False\n",
      "based base VERB VBN amod xxxx True False\n",
      "Edtech Edtech PROPN NNP compound Xxxxx True False\n",
      "company company NOUN NN pobj xxxx True False\n",
      ". . PUNCT . punct . False False\n",
      "He -PRON- PRON PRP nsubj Xx True True\n",
      "is be AUX VBZ ROOT xx True True\n",
      "interested interested ADJ JJ acomp xxxx True False\n",
      "in in ADP IN prep xx True True\n",
      "learning learn VERB VBG pcomp xxxx True False\n",
      "Natural Natural PROPN NNP compound Xxxxx True False\n",
      "Language Language PROPN NNP compound Xxxxx True False\n",
      "Processing Processing PROPN NNP dobj Xxxxx True False\n",
      ". . PUNCT . punct . False False\n",
      "He -PRON- PRON PRP nsubj Xx True True\n",
      "keeps keep VERB VBZ ROOT xxxx True False\n",
      "organizing organize VERB VBG xcomp xxxx True False\n",
      "local local ADJ JJ amod xxxx True False\n",
      "Python Python PROPN NNP compound Xxxxx True False\n",
      "meetups meetup NOUN NNS dobj xxxx True False\n",
      "and and CCONJ CC cc xxx True True\n",
      "several several ADJ JJ amod xxxx True True\n",
      "internal internal ADJ JJ amod xxxx True False\n",
      "talks talk NOUN NNS conj xxxx True False\n",
      "at at ADP IN prep xx True True\n",
      "his -PRON- DET PRP$ poss xxx True True\n",
      "workplace workplace NOUN NN pobj xxxx True False\n",
      ". . PUNCT . punct . False False\n"
     ]
    }
   ],
   "source": [
    "doc=nlp(my_text)\n",
    "for token in doc:\n",
    "    print(token.text, token.lemma_, token.pos_, token.tag_, token.dep_,\n",
    "            token.shape_, token.is_alpha, token.is_stop)"
   ]
  },
  {
   "cell_type": "markdown",
   "metadata": {
    "id": "KhaDoSCHBijA"
   },
   "source": [
    "### Question 5. Detect and print hyphenated words from my_text. For example, London-based."
   ]
  },
  {
   "cell_type": "code",
   "execution_count": 5,
   "metadata": {
    "id": "Qn2kw_vPBijB"
   },
   "outputs": [],
   "source": [
    "import re\n",
    "import spacy\n",
    "from spacy.tokenizer import Tokenizer\n",
    "from spacy.util import compile_prefix_regex, compile_infix_regex, compile_suffix_regex\n",
    "\n",
    "def custom_tokenizer(nlp):\n",
    "    infix_re = re.compile(r'''[.\\,\\?\\:\\;\\...\\‘\\’\\`\\“\\”\\\"\\'~]''')\n",
    "    prefix_re = compile_prefix_regex(nlp.Defaults.prefixes)\n",
    "    suffix_re = compile_suffix_regex(nlp.Defaults.suffixes)\n",
    "\n",
    "    return Tokenizer(nlp.vocab, prefix_search=prefix_re.search,\n",
    "                                suffix_search=suffix_re.search,\n",
    "                                infix_finditer=infix_re.finditer,\n",
    "                                token_match=None)\n",
    "\n",
    "nlp = spacy.load('en')\n",
    "nlp.tokenizer = custom_tokenizer(nlp)"
   ]
  },
  {
   "cell_type": "code",
   "execution_count": 6,
   "metadata": {
    "colab": {
     "base_uri": "https://localhost:8080/"
    },
    "id": "s4RjR2cUBijC",
    "outputId": "53ce44dd-7918-4593-b8bc-93f2308b540b"
   },
   "outputs": [
    {
     "data": {
      "text/plain": [
       "['Rajkumar',\n",
       " 'Kannan',\n",
       " 'is',\n",
       " 'a',\n",
       " 'ML',\n",
       " 'developer',\n",
       " 'currently',\n",
       " 'working',\n",
       " 'for',\n",
       " 'a',\n",
       " 'London-based',\n",
       " 'Edtech',\n",
       " 'company',\n",
       " '.',\n",
       " 'He',\n",
       " 'is',\n",
       " 'interested',\n",
       " 'in',\n",
       " 'learning',\n",
       " 'Natural',\n",
       " 'Language',\n",
       " 'Processing',\n",
       " '.',\n",
       " 'He',\n",
       " 'keeps',\n",
       " 'organizing',\n",
       " 'local',\n",
       " 'Python',\n",
       " 'meetups',\n",
       " 'and',\n",
       " 'several',\n",
       " 'internal',\n",
       " 'talks',\n",
       " 'at',\n",
       " 'his',\n",
       " 'workplace',\n",
       " '.']"
      ]
     },
     "execution_count": 6,
     "metadata": {
      "tags": []
     },
     "output_type": "execute_result"
    }
   ],
   "source": [
    "doc = nlp(my_text)\n",
    "[token.text for token in doc]"
   ]
  },
  {
   "cell_type": "markdown",
   "metadata": {
    "id": "OJ9yY4ayBijD"
   },
   "source": [
    "### Question 6. Print all stop words defined in SpaCy "
   ]
  },
  {
   "cell_type": "code",
   "execution_count": 7,
   "metadata": {
    "colab": {
     "base_uri": "https://localhost:8080/"
    },
    "id": "Msm4qadnBijD",
    "outputId": "3c5c606d-4cf3-476e-8a76-6d503df8171e"
   },
   "outputs": [
    {
     "name": "stdout",
     "output_type": "stream",
     "text": [
      "{'do', '‘m', 'towards', 'to', 'really', 'too', 'take', 'below', 'no', 'along', 'as', 'together', 'noone', 'five', 'whence', 'about', 'nobody', 'top', 'none', 'since', 'thereupon', 'nor', 'first', 'off', 'not', 'never', 'hence', 'last', 'me', 'be', 'seems', 'put', 'does', 'over', 'three', 'ten', 'ca', 'always', 'whither', 'eleven', '’s', 'across', 'least', 'bottom', 'at', 'whereafter', 'fifteen', 'whereas', 'been', 'herein', 'sometime', 'either', 'ever', '’m', 'sixty', 'could', 'whoever', 'against', 'thereby', 'has', '‘ll', '‘d', 'any', 'becomes', '’ve', 'hers', 'myself', 'still', 'seem', 'because', 'upon', 'into', 'even', 'him', 'whereupon', 'each', 'but', 'therefore', 'n‘t', 'doing', 'why', 'behind', 'became', 'would', 'several', 'twenty', 'our', 'due', 'might', 'was', 'toward', 'which', 'regarding', 'move', 'keep', 'us', 'being', 'n’t', 'its', 'else', 'while', 'your', 'wherein', 'yet', 'when', 'should', 'per', 'meanwhile', 'is', 'will', 'ours', 'around', 'mine', 'a', 'elsewhere', 'ourselves', 'thus', 'if', 'his', \"'s\", 'full', 'nothing', 'above', 'say', 'six', 'had', 'wherever', 'throughout', 'we', 'whole', 'whom', 'anything', 'who', 'them', 'beforehand', 'just', 'another', 're', 'for', 'name', 'everywhere', 'whether', 'herself', 'almost', \"'ll\", 'without', 'two', '’d', 'an', 'made', 'themselves', 'hereby', 'using', '’re', 'further', 'therein', 'you', 'alone', 'much', 'seeming', 'onto', 'did', 'well', 'where', 'twelve', 'indeed', \"'ve\", 'that', 'whereby', 'it', 'himself', 'i', 'side', 'somehow', 'so', 'by', 'amongst', 'until', 'then', 'nevertheless', 'those', 'and', \"n't\", 'own', 'same', 'show', 'many', 'yours', 'few', \"'re\", 'were', 'give', 'within', 'serious', 'under', 'also', 'thru', 'whose', 'again', '’ll', 'amount', 'fifty', 'before', 'may', 'neither', 'enough', 'otherwise', 'on', 'yourselves', 'anyhow', 'becoming', \"'d\", 'although', 'nowhere', 'down', 'mostly', 'her', 'she', 'can', 'former', 'hereafter', 'have', 'after', 'four', 'quite', 'latter', 'once', 'between', 'used', 'both', 'some', 'next', 'seemed', 'whenever', 'please', 'all', 'beyond', 'formerly', 'something', 'thereafter', 'my', 'part', 'everyone', 'back', 'thence', 'anywhere', 'already', 'other', 'their', 'during', 'go', 'the', 'what', 'of', 'now', 'less', 'beside', 'done', 'than', 'whatever', 'anyway', 'sometimes', 'get', 'often', 'latterly', '‘s', 'afterwards', 'one', 'more', 'must', 'very', '‘re', 'unless', 'he', \"'m\", 'how', 'except', 'in', 'up', 'empty', 'yourself', 'with', 'besides', 'every', 'cannot', 'third', 'such', 'there', 'via', 'are', 'rather', 'see', 'among', 'moreover', 'namely', 'call', 'this', 'hundred', 'hereupon', 'through', 'others', 'though', 'eight', 'everything', 'they', 'however', 'various', 'become', 'here', 'somewhere', 'itself', 'someone', 'or', 'nine', 'make', 'only', 'perhaps', 'most', 'anyone', 'forty', 'out', 'from', 'these', 'am', '‘ve', 'front'}\n"
     ]
    }
   ],
   "source": [
    "print(nlp.Defaults.stop_words)"
   ]
  },
  {
   "cell_type": "markdown",
   "metadata": {
    "id": "I_7NPZtJBijD"
   },
   "source": [
    "### Question 7. Remove all stop words and print the rest of tokens from, my_text"
   ]
  },
  {
   "cell_type": "code",
   "execution_count": 8,
   "metadata": {
    "colab": {
     "base_uri": "https://localhost:8080/"
    },
    "id": "ILb0pMeSBijE",
    "outputId": "9e8ced58-b6ad-44fc-f6e0-87f53ffef298"
   },
   "outputs": [
    {
     "data": {
      "text/plain": [
       "['Rajkumar',\n",
       " 'Kannan',\n",
       " 'ML',\n",
       " 'developer',\n",
       " 'currently',\n",
       " 'working',\n",
       " 'London-based',\n",
       " 'Edtech',\n",
       " 'company',\n",
       " '.',\n",
       " 'He',\n",
       " 'interested',\n",
       " 'learning',\n",
       " 'Natural',\n",
       " 'Language',\n",
       " 'Processing',\n",
       " '.',\n",
       " 'He',\n",
       " 'keeps',\n",
       " 'organizing',\n",
       " 'local',\n",
       " 'Python',\n",
       " 'meetups',\n",
       " 'internal',\n",
       " 'talks',\n",
       " 'workplace',\n",
       " '.']"
      ]
     },
     "execution_count": 8,
     "metadata": {
      "tags": []
     },
     "output_type": "execute_result"
    }
   ],
   "source": [
    "all_stopwords = nlp.Defaults.stop_words\n",
    "[token.text for token in doc if not token.text in all_stopwords]"
   ]
  },
  {
   "cell_type": "markdown",
   "metadata": {
    "id": "Aq6Gps3tBijE"
   },
   "source": [
    "### Question 8. Print all lemma from my_text"
   ]
  },
  {
   "cell_type": "code",
   "execution_count": 9,
   "metadata": {
    "colab": {
     "base_uri": "https://localhost:8080/"
    },
    "id": "u-Ujx0SmBijE",
    "outputId": "e48ee4ba-4e20-456e-ad71-bf3443eb4748"
   },
   "outputs": [
    {
     "name": "stdout",
     "output_type": "stream",
     "text": [
      "Rajkumar Rajkumar\n",
      "Kannan Kannan\n",
      "is be\n",
      "a a\n",
      "ML ML\n",
      "developer developer\n",
      "currently currently\n",
      "working work\n",
      "for for\n",
      "a a\n",
      "London-based London-based\n",
      "Edtech Edtech\n",
      "company company\n",
      ". .\n",
      "He -PRON-\n",
      "is be\n",
      "interested interested\n",
      "in in\n",
      "learning learn\n",
      "Natural Natural\n",
      "Language Language\n",
      "Processing Processing\n",
      ". .\n",
      "He -PRON-\n",
      "keeps keep\n",
      "organizing organize\n",
      "local local\n",
      "Python Python\n",
      "meetups meetup\n",
      "and and\n",
      "several several\n",
      "internal internal\n",
      "talks talk\n",
      "at at\n",
      "his -PRON-\n",
      "workplace workplace\n",
      ". .\n"
     ]
    }
   ],
   "source": [
    "for token in doc:\n",
    "    print(token, token.lemma_)"
   ]
  },
  {
   "cell_type": "markdown",
   "metadata": {
    "id": "ZgBcjFUtBijF"
   },
   "source": [
    "### Question 9. Perform Part of Speech Tagging on my_text and print the following tag informations token, token.tag_, token.pos_, spacy.explain(token.tag_) "
   ]
  },
  {
   "cell_type": "code",
   "execution_count": 10,
   "metadata": {
    "colab": {
     "base_uri": "https://localhost:8080/"
    },
    "id": "JijQgqklBijG",
    "outputId": "5698d978-fb2b-4127-de3d-86822feb3257"
   },
   "outputs": [
    {
     "name": "stdout",
     "output_type": "stream",
     "text": [
      "Rajkumar PROPN 15794550382381185553 noun, proper singular\n",
      "Kannan PROPN 15794550382381185553 noun, proper singular\n",
      "is AUX 13927759927860985106 verb, 3rd person singular present\n",
      "a DET 15267657372422890137 determiner\n",
      "ML PROPN 15794550382381185553 noun, proper singular\n",
      "developer NOUN 15308085513773655218 noun, singular or mass\n",
      "currently ADV 164681854541413346 adverb\n",
      "working VERB 1534113631682161808 verb, gerund or present participle\n",
      "for ADP 1292078113972184607 conjunction, subordinating or preposition\n",
      "a DET 15267657372422890137 determiner\n",
      "London-based PROPN 15794550382381185553 noun, proper singular\n",
      "Edtech PROPN 15794550382381185553 noun, proper singular\n",
      "company NOUN 15308085513773655218 noun, singular or mass\n",
      ". PUNCT 12646065887601541794 punctuation mark, sentence closer\n",
      "He PRON 13656873538139661788 pronoun, personal\n",
      "is AUX 13927759927860985106 verb, 3rd person singular present\n",
      "interested ADJ 10554686591937588953 adjective\n",
      "in ADP 1292078113972184607 conjunction, subordinating or preposition\n",
      "learning VERB 1534113631682161808 verb, gerund or present participle\n",
      "Natural PROPN 15794550382381185553 noun, proper singular\n",
      "Language PROPN 15794550382381185553 noun, proper singular\n",
      "Processing PROPN 15794550382381185553 noun, proper singular\n",
      ". PUNCT 12646065887601541794 punctuation mark, sentence closer\n",
      "He PRON 13656873538139661788 pronoun, personal\n",
      "keeps VERB 13927759927860985106 verb, 3rd person singular present\n",
      "organizing VERB 1534113631682161808 verb, gerund or present participle\n",
      "local ADJ 10554686591937588953 adjective\n",
      "Python PROPN 15794550382381185553 noun, proper singular\n",
      "meetups NOUN 783433942507015291 noun, plural\n",
      "and CCONJ 17571114184892886314 conjunction, coordinating\n",
      "several ADJ 10554686591937588953 adjective\n",
      "internal ADJ 10554686591937588953 adjective\n",
      "talks NOUN 783433942507015291 noun, plural\n",
      "at ADP 1292078113972184607 conjunction, subordinating or preposition\n",
      "his DET 4062917326063685704 pronoun, possessive\n",
      "workplace NOUN 15308085513773655218 noun, singular or mass\n",
      ". PUNCT 12646065887601541794 punctuation mark, sentence closer\n"
     ]
    }
   ],
   "source": [
    "doc=nlp(my_text)\n",
    "for token in doc:\n",
    "    print(token.text, token.pos_, token.tag,spacy.explain(token.tag_))"
   ]
  },
  {
   "cell_type": "markdown",
   "metadata": {
    "id": "FTbD_NdFBijG"
   },
   "source": [
    "### Question 10. How many NOUN and ADJ are there in my_text?. Print them and its count. "
   ]
  },
  {
   "cell_type": "code",
   "execution_count": 11,
   "metadata": {
    "colab": {
     "base_uri": "https://localhost:8080/"
    },
    "id": "wEXOmTFwBijH",
    "outputId": "c4051b95-857c-4876-e84c-bc72d3171891"
   },
   "outputs": [
    {
     "name": "stdout",
     "output_type": "stream",
     "text": [
      "5 [developer, company, meetups, talks, workplace]\n"
     ]
    }
   ],
   "source": [
    "nouns = []\n",
    "for token in doc:\n",
    "    if token.pos_ == 'NOUN':\n",
    "        nouns.append(token)\n",
    "print(len(nouns),nouns)"
   ]
  },
  {
   "cell_type": "code",
   "execution_count": 12,
   "metadata": {
    "colab": {
     "base_uri": "https://localhost:8080/"
    },
    "id": "RVtKPYI0BijH",
    "outputId": "2a6a1313-6d31-4d47-dede-2e88344522d9"
   },
   "outputs": [
    {
     "name": "stdout",
     "output_type": "stream",
     "text": [
      "4 [interested, local, several, internal]\n"
     ]
    }
   ],
   "source": [
    "adjectives = []\n",
    "for token in doc:\n",
    "    if token.pos_ == 'ADJ':\n",
    "        adjectives.append(token)\n",
    "print(len(adjectives),adjectives)"
   ]
  },
  {
   "cell_type": "markdown",
   "metadata": {
    "id": "7U9UmYqrBijI"
   },
   "source": [
    "### Question 11. Visualize POS tags of a sentence, my_text, using displaCy "
   ]
  },
  {
   "cell_type": "code",
   "execution_count": 13,
   "metadata": {
    "colab": {
     "base_uri": "https://localhost:8080/",
     "height": 528
    },
    "id": "vY4W_ocVBijI",
    "outputId": "4c3a347b-3693-41a3-de40-9c5ac5838e0b"
   },
   "outputs": [
    {
     "data": {
      "text/html": [
       "<span class=\"tex2jax_ignore\"><svg xmlns=\"http://www.w3.org/2000/svg\" xmlns:xlink=\"http://www.w3.org/1999/xlink\" xml:lang=\"en\" id=\"815e97fa361f4be78d08f10ab02665bd-0\" class=\"displacy\" width=\"6000\" height=\"487.0\" direction=\"ltr\" style=\"max-width: none; height: 487.0px; color: #000000; background: #ffffff; font-family: Arial; direction: ltr\">\n",
       "<text class=\"displacy-token\" fill=\"currentColor\" text-anchor=\"middle\" y=\"397.0\">\n",
       "    <tspan class=\"displacy-word\" fill=\"currentColor\" x=\"50\">Rajkumar</tspan>\n",
       "    <tspan class=\"displacy-tag\" dy=\"2em\" fill=\"currentColor\" x=\"50\">PROPN</tspan>\n",
       "</text>\n",
       "\n",
       "<text class=\"displacy-token\" fill=\"currentColor\" text-anchor=\"middle\" y=\"397.0\">\n",
       "    <tspan class=\"displacy-word\" fill=\"currentColor\" x=\"225\">Kannan</tspan>\n",
       "    <tspan class=\"displacy-tag\" dy=\"2em\" fill=\"currentColor\" x=\"225\">PROPN</tspan>\n",
       "</text>\n",
       "\n",
       "<text class=\"displacy-token\" fill=\"currentColor\" text-anchor=\"middle\" y=\"397.0\">\n",
       "    <tspan class=\"displacy-word\" fill=\"currentColor\" x=\"400\">is</tspan>\n",
       "    <tspan class=\"displacy-tag\" dy=\"2em\" fill=\"currentColor\" x=\"400\">AUX</tspan>\n",
       "</text>\n",
       "\n",
       "<text class=\"displacy-token\" fill=\"currentColor\" text-anchor=\"middle\" y=\"397.0\">\n",
       "    <tspan class=\"displacy-word\" fill=\"currentColor\" x=\"575\">a</tspan>\n",
       "    <tspan class=\"displacy-tag\" dy=\"2em\" fill=\"currentColor\" x=\"575\">DET</tspan>\n",
       "</text>\n",
       "\n",
       "<text class=\"displacy-token\" fill=\"currentColor\" text-anchor=\"middle\" y=\"397.0\">\n",
       "    <tspan class=\"displacy-word\" fill=\"currentColor\" x=\"750\">ML</tspan>\n",
       "    <tspan class=\"displacy-tag\" dy=\"2em\" fill=\"currentColor\" x=\"750\">PROPN</tspan>\n",
       "</text>\n",
       "\n",
       "<text class=\"displacy-token\" fill=\"currentColor\" text-anchor=\"middle\" y=\"397.0\">\n",
       "    <tspan class=\"displacy-word\" fill=\"currentColor\" x=\"925\">developer</tspan>\n",
       "    <tspan class=\"displacy-tag\" dy=\"2em\" fill=\"currentColor\" x=\"925\">NOUN</tspan>\n",
       "</text>\n",
       "\n",
       "<text class=\"displacy-token\" fill=\"currentColor\" text-anchor=\"middle\" y=\"397.0\">\n",
       "    <tspan class=\"displacy-word\" fill=\"currentColor\" x=\"1100\">currently</tspan>\n",
       "    <tspan class=\"displacy-tag\" dy=\"2em\" fill=\"currentColor\" x=\"1100\">ADV</tspan>\n",
       "</text>\n",
       "\n",
       "<text class=\"displacy-token\" fill=\"currentColor\" text-anchor=\"middle\" y=\"397.0\">\n",
       "    <tspan class=\"displacy-word\" fill=\"currentColor\" x=\"1275\">working</tspan>\n",
       "    <tspan class=\"displacy-tag\" dy=\"2em\" fill=\"currentColor\" x=\"1275\">VERB</tspan>\n",
       "</text>\n",
       "\n",
       "<text class=\"displacy-token\" fill=\"currentColor\" text-anchor=\"middle\" y=\"397.0\">\n",
       "    <tspan class=\"displacy-word\" fill=\"currentColor\" x=\"1450\">for</tspan>\n",
       "    <tspan class=\"displacy-tag\" dy=\"2em\" fill=\"currentColor\" x=\"1450\">ADP</tspan>\n",
       "</text>\n",
       "\n",
       "<text class=\"displacy-token\" fill=\"currentColor\" text-anchor=\"middle\" y=\"397.0\">\n",
       "    <tspan class=\"displacy-word\" fill=\"currentColor\" x=\"1625\">a</tspan>\n",
       "    <tspan class=\"displacy-tag\" dy=\"2em\" fill=\"currentColor\" x=\"1625\">DET</tspan>\n",
       "</text>\n",
       "\n",
       "<text class=\"displacy-token\" fill=\"currentColor\" text-anchor=\"middle\" y=\"397.0\">\n",
       "    <tspan class=\"displacy-word\" fill=\"currentColor\" x=\"1800\">London-based</tspan>\n",
       "    <tspan class=\"displacy-tag\" dy=\"2em\" fill=\"currentColor\" x=\"1800\">PROPN</tspan>\n",
       "</text>\n",
       "\n",
       "<text class=\"displacy-token\" fill=\"currentColor\" text-anchor=\"middle\" y=\"397.0\">\n",
       "    <tspan class=\"displacy-word\" fill=\"currentColor\" x=\"1975\">Edtech</tspan>\n",
       "    <tspan class=\"displacy-tag\" dy=\"2em\" fill=\"currentColor\" x=\"1975\">PROPN</tspan>\n",
       "</text>\n",
       "\n",
       "<text class=\"displacy-token\" fill=\"currentColor\" text-anchor=\"middle\" y=\"397.0\">\n",
       "    <tspan class=\"displacy-word\" fill=\"currentColor\" x=\"2150\">company.</tspan>\n",
       "    <tspan class=\"displacy-tag\" dy=\"2em\" fill=\"currentColor\" x=\"2150\">NOUN</tspan>\n",
       "</text>\n",
       "\n",
       "<text class=\"displacy-token\" fill=\"currentColor\" text-anchor=\"middle\" y=\"397.0\">\n",
       "    <tspan class=\"displacy-word\" fill=\"currentColor\" x=\"2325\">He</tspan>\n",
       "    <tspan class=\"displacy-tag\" dy=\"2em\" fill=\"currentColor\" x=\"2325\">PRON</tspan>\n",
       "</text>\n",
       "\n",
       "<text class=\"displacy-token\" fill=\"currentColor\" text-anchor=\"middle\" y=\"397.0\">\n",
       "    <tspan class=\"displacy-word\" fill=\"currentColor\" x=\"2500\">is</tspan>\n",
       "    <tspan class=\"displacy-tag\" dy=\"2em\" fill=\"currentColor\" x=\"2500\">AUX</tspan>\n",
       "</text>\n",
       "\n",
       "<text class=\"displacy-token\" fill=\"currentColor\" text-anchor=\"middle\" y=\"397.0\">\n",
       "    <tspan class=\"displacy-word\" fill=\"currentColor\" x=\"2675\">interested</tspan>\n",
       "    <tspan class=\"displacy-tag\" dy=\"2em\" fill=\"currentColor\" x=\"2675\">ADJ</tspan>\n",
       "</text>\n",
       "\n",
       "<text class=\"displacy-token\" fill=\"currentColor\" text-anchor=\"middle\" y=\"397.0\">\n",
       "    <tspan class=\"displacy-word\" fill=\"currentColor\" x=\"2850\">in</tspan>\n",
       "    <tspan class=\"displacy-tag\" dy=\"2em\" fill=\"currentColor\" x=\"2850\">ADP</tspan>\n",
       "</text>\n",
       "\n",
       "<text class=\"displacy-token\" fill=\"currentColor\" text-anchor=\"middle\" y=\"397.0\">\n",
       "    <tspan class=\"displacy-word\" fill=\"currentColor\" x=\"3025\">learning</tspan>\n",
       "    <tspan class=\"displacy-tag\" dy=\"2em\" fill=\"currentColor\" x=\"3025\">VERB</tspan>\n",
       "</text>\n",
       "\n",
       "<text class=\"displacy-token\" fill=\"currentColor\" text-anchor=\"middle\" y=\"397.0\">\n",
       "    <tspan class=\"displacy-word\" fill=\"currentColor\" x=\"3200\">Natural</tspan>\n",
       "    <tspan class=\"displacy-tag\" dy=\"2em\" fill=\"currentColor\" x=\"3200\">PROPN</tspan>\n",
       "</text>\n",
       "\n",
       "<text class=\"displacy-token\" fill=\"currentColor\" text-anchor=\"middle\" y=\"397.0\">\n",
       "    <tspan class=\"displacy-word\" fill=\"currentColor\" x=\"3375\">Language</tspan>\n",
       "    <tspan class=\"displacy-tag\" dy=\"2em\" fill=\"currentColor\" x=\"3375\">PROPN</tspan>\n",
       "</text>\n",
       "\n",
       "<text class=\"displacy-token\" fill=\"currentColor\" text-anchor=\"middle\" y=\"397.0\">\n",
       "    <tspan class=\"displacy-word\" fill=\"currentColor\" x=\"3550\">Processing.</tspan>\n",
       "    <tspan class=\"displacy-tag\" dy=\"2em\" fill=\"currentColor\" x=\"3550\">PROPN</tspan>\n",
       "</text>\n",
       "\n",
       "<text class=\"displacy-token\" fill=\"currentColor\" text-anchor=\"middle\" y=\"397.0\">\n",
       "    <tspan class=\"displacy-word\" fill=\"currentColor\" x=\"3725\">He</tspan>\n",
       "    <tspan class=\"displacy-tag\" dy=\"2em\" fill=\"currentColor\" x=\"3725\">PRON</tspan>\n",
       "</text>\n",
       "\n",
       "<text class=\"displacy-token\" fill=\"currentColor\" text-anchor=\"middle\" y=\"397.0\">\n",
       "    <tspan class=\"displacy-word\" fill=\"currentColor\" x=\"3900\">keeps</tspan>\n",
       "    <tspan class=\"displacy-tag\" dy=\"2em\" fill=\"currentColor\" x=\"3900\">VERB</tspan>\n",
       "</text>\n",
       "\n",
       "<text class=\"displacy-token\" fill=\"currentColor\" text-anchor=\"middle\" y=\"397.0\">\n",
       "    <tspan class=\"displacy-word\" fill=\"currentColor\" x=\"4075\">organizing</tspan>\n",
       "    <tspan class=\"displacy-tag\" dy=\"2em\" fill=\"currentColor\" x=\"4075\">VERB</tspan>\n",
       "</text>\n",
       "\n",
       "<text class=\"displacy-token\" fill=\"currentColor\" text-anchor=\"middle\" y=\"397.0\">\n",
       "    <tspan class=\"displacy-word\" fill=\"currentColor\" x=\"4250\">local</tspan>\n",
       "    <tspan class=\"displacy-tag\" dy=\"2em\" fill=\"currentColor\" x=\"4250\">ADJ</tspan>\n",
       "</text>\n",
       "\n",
       "<text class=\"displacy-token\" fill=\"currentColor\" text-anchor=\"middle\" y=\"397.0\">\n",
       "    <tspan class=\"displacy-word\" fill=\"currentColor\" x=\"4425\">Python</tspan>\n",
       "    <tspan class=\"displacy-tag\" dy=\"2em\" fill=\"currentColor\" x=\"4425\">PROPN</tspan>\n",
       "</text>\n",
       "\n",
       "<text class=\"displacy-token\" fill=\"currentColor\" text-anchor=\"middle\" y=\"397.0\">\n",
       "    <tspan class=\"displacy-word\" fill=\"currentColor\" x=\"4600\">meetups</tspan>\n",
       "    <tspan class=\"displacy-tag\" dy=\"2em\" fill=\"currentColor\" x=\"4600\">NOUN</tspan>\n",
       "</text>\n",
       "\n",
       "<text class=\"displacy-token\" fill=\"currentColor\" text-anchor=\"middle\" y=\"397.0\">\n",
       "    <tspan class=\"displacy-word\" fill=\"currentColor\" x=\"4775\">and</tspan>\n",
       "    <tspan class=\"displacy-tag\" dy=\"2em\" fill=\"currentColor\" x=\"4775\">CCONJ</tspan>\n",
       "</text>\n",
       "\n",
       "<text class=\"displacy-token\" fill=\"currentColor\" text-anchor=\"middle\" y=\"397.0\">\n",
       "    <tspan class=\"displacy-word\" fill=\"currentColor\" x=\"4950\">several</tspan>\n",
       "    <tspan class=\"displacy-tag\" dy=\"2em\" fill=\"currentColor\" x=\"4950\">ADJ</tspan>\n",
       "</text>\n",
       "\n",
       "<text class=\"displacy-token\" fill=\"currentColor\" text-anchor=\"middle\" y=\"397.0\">\n",
       "    <tspan class=\"displacy-word\" fill=\"currentColor\" x=\"5125\">internal</tspan>\n",
       "    <tspan class=\"displacy-tag\" dy=\"2em\" fill=\"currentColor\" x=\"5125\">ADJ</tspan>\n",
       "</text>\n",
       "\n",
       "<text class=\"displacy-token\" fill=\"currentColor\" text-anchor=\"middle\" y=\"397.0\">\n",
       "    <tspan class=\"displacy-word\" fill=\"currentColor\" x=\"5300\">talks</tspan>\n",
       "    <tspan class=\"displacy-tag\" dy=\"2em\" fill=\"currentColor\" x=\"5300\">NOUN</tspan>\n",
       "</text>\n",
       "\n",
       "<text class=\"displacy-token\" fill=\"currentColor\" text-anchor=\"middle\" y=\"397.0\">\n",
       "    <tspan class=\"displacy-word\" fill=\"currentColor\" x=\"5475\">at</tspan>\n",
       "    <tspan class=\"displacy-tag\" dy=\"2em\" fill=\"currentColor\" x=\"5475\">ADP</tspan>\n",
       "</text>\n",
       "\n",
       "<text class=\"displacy-token\" fill=\"currentColor\" text-anchor=\"middle\" y=\"397.0\">\n",
       "    <tspan class=\"displacy-word\" fill=\"currentColor\" x=\"5650\">his</tspan>\n",
       "    <tspan class=\"displacy-tag\" dy=\"2em\" fill=\"currentColor\" x=\"5650\">DET</tspan>\n",
       "</text>\n",
       "\n",
       "<text class=\"displacy-token\" fill=\"currentColor\" text-anchor=\"middle\" y=\"397.0\">\n",
       "    <tspan class=\"displacy-word\" fill=\"currentColor\" x=\"5825\">workplace.</tspan>\n",
       "    <tspan class=\"displacy-tag\" dy=\"2em\" fill=\"currentColor\" x=\"5825\">NOUN</tspan>\n",
       "</text>\n",
       "\n",
       "<g class=\"displacy-arrow\">\n",
       "    <path class=\"displacy-arc\" id=\"arrow-815e97fa361f4be78d08f10ab02665bd-0-0\" stroke-width=\"2px\" d=\"M70,352.0 C70,264.5 210.0,264.5 210.0,352.0\" fill=\"none\" stroke=\"currentColor\"/>\n",
       "    <text dy=\"1.25em\" style=\"font-size: 0.8em; letter-spacing: 1px\">\n",
       "        <textPath xlink:href=\"#arrow-815e97fa361f4be78d08f10ab02665bd-0-0\" class=\"displacy-label\" startOffset=\"50%\" side=\"left\" fill=\"currentColor\" text-anchor=\"middle\">compound</textPath>\n",
       "    </text>\n",
       "    <path class=\"displacy-arrowhead\" d=\"M70,354.0 L62,342.0 78,342.0\" fill=\"currentColor\"/>\n",
       "</g>\n",
       "\n",
       "<g class=\"displacy-arrow\">\n",
       "    <path class=\"displacy-arc\" id=\"arrow-815e97fa361f4be78d08f10ab02665bd-0-1\" stroke-width=\"2px\" d=\"M245,352.0 C245,264.5 385.0,264.5 385.0,352.0\" fill=\"none\" stroke=\"currentColor\"/>\n",
       "    <text dy=\"1.25em\" style=\"font-size: 0.8em; letter-spacing: 1px\">\n",
       "        <textPath xlink:href=\"#arrow-815e97fa361f4be78d08f10ab02665bd-0-1\" class=\"displacy-label\" startOffset=\"50%\" side=\"left\" fill=\"currentColor\" text-anchor=\"middle\">nsubj</textPath>\n",
       "    </text>\n",
       "    <path class=\"displacy-arrowhead\" d=\"M245,354.0 L237,342.0 253,342.0\" fill=\"currentColor\"/>\n",
       "</g>\n",
       "\n",
       "<g class=\"displacy-arrow\">\n",
       "    <path class=\"displacy-arc\" id=\"arrow-815e97fa361f4be78d08f10ab02665bd-0-2\" stroke-width=\"2px\" d=\"M595,352.0 C595,177.0 915.0,177.0 915.0,352.0\" fill=\"none\" stroke=\"currentColor\"/>\n",
       "    <text dy=\"1.25em\" style=\"font-size: 0.8em; letter-spacing: 1px\">\n",
       "        <textPath xlink:href=\"#arrow-815e97fa361f4be78d08f10ab02665bd-0-2\" class=\"displacy-label\" startOffset=\"50%\" side=\"left\" fill=\"currentColor\" text-anchor=\"middle\">det</textPath>\n",
       "    </text>\n",
       "    <path class=\"displacy-arrowhead\" d=\"M595,354.0 L587,342.0 603,342.0\" fill=\"currentColor\"/>\n",
       "</g>\n",
       "\n",
       "<g class=\"displacy-arrow\">\n",
       "    <path class=\"displacy-arc\" id=\"arrow-815e97fa361f4be78d08f10ab02665bd-0-3\" stroke-width=\"2px\" d=\"M770,352.0 C770,264.5 910.0,264.5 910.0,352.0\" fill=\"none\" stroke=\"currentColor\"/>\n",
       "    <text dy=\"1.25em\" style=\"font-size: 0.8em; letter-spacing: 1px\">\n",
       "        <textPath xlink:href=\"#arrow-815e97fa361f4be78d08f10ab02665bd-0-3\" class=\"displacy-label\" startOffset=\"50%\" side=\"left\" fill=\"currentColor\" text-anchor=\"middle\">compound</textPath>\n",
       "    </text>\n",
       "    <path class=\"displacy-arrowhead\" d=\"M770,354.0 L762,342.0 778,342.0\" fill=\"currentColor\"/>\n",
       "</g>\n",
       "\n",
       "<g class=\"displacy-arrow\">\n",
       "    <path class=\"displacy-arc\" id=\"arrow-815e97fa361f4be78d08f10ab02665bd-0-4\" stroke-width=\"2px\" d=\"M420,352.0 C420,89.5 920.0,89.5 920.0,352.0\" fill=\"none\" stroke=\"currentColor\"/>\n",
       "    <text dy=\"1.25em\" style=\"font-size: 0.8em; letter-spacing: 1px\">\n",
       "        <textPath xlink:href=\"#arrow-815e97fa361f4be78d08f10ab02665bd-0-4\" class=\"displacy-label\" startOffset=\"50%\" side=\"left\" fill=\"currentColor\" text-anchor=\"middle\">attr</textPath>\n",
       "    </text>\n",
       "    <path class=\"displacy-arrowhead\" d=\"M920.0,354.0 L928.0,342.0 912.0,342.0\" fill=\"currentColor\"/>\n",
       "</g>\n",
       "\n",
       "<g class=\"displacy-arrow\">\n",
       "    <path class=\"displacy-arc\" id=\"arrow-815e97fa361f4be78d08f10ab02665bd-0-5\" stroke-width=\"2px\" d=\"M1120,352.0 C1120,264.5 1260.0,264.5 1260.0,352.0\" fill=\"none\" stroke=\"currentColor\"/>\n",
       "    <text dy=\"1.25em\" style=\"font-size: 0.8em; letter-spacing: 1px\">\n",
       "        <textPath xlink:href=\"#arrow-815e97fa361f4be78d08f10ab02665bd-0-5\" class=\"displacy-label\" startOffset=\"50%\" side=\"left\" fill=\"currentColor\" text-anchor=\"middle\">advmod</textPath>\n",
       "    </text>\n",
       "    <path class=\"displacy-arrowhead\" d=\"M1120,354.0 L1112,342.0 1128,342.0\" fill=\"currentColor\"/>\n",
       "</g>\n",
       "\n",
       "<g class=\"displacy-arrow\">\n",
       "    <path class=\"displacy-arc\" id=\"arrow-815e97fa361f4be78d08f10ab02665bd-0-6\" stroke-width=\"2px\" d=\"M945,352.0 C945,177.0 1265.0,177.0 1265.0,352.0\" fill=\"none\" stroke=\"currentColor\"/>\n",
       "    <text dy=\"1.25em\" style=\"font-size: 0.8em; letter-spacing: 1px\">\n",
       "        <textPath xlink:href=\"#arrow-815e97fa361f4be78d08f10ab02665bd-0-6\" class=\"displacy-label\" startOffset=\"50%\" side=\"left\" fill=\"currentColor\" text-anchor=\"middle\">acl</textPath>\n",
       "    </text>\n",
       "    <path class=\"displacy-arrowhead\" d=\"M1265.0,354.0 L1273.0,342.0 1257.0,342.0\" fill=\"currentColor\"/>\n",
       "</g>\n",
       "\n",
       "<g class=\"displacy-arrow\">\n",
       "    <path class=\"displacy-arc\" id=\"arrow-815e97fa361f4be78d08f10ab02665bd-0-7\" stroke-width=\"2px\" d=\"M1295,352.0 C1295,264.5 1435.0,264.5 1435.0,352.0\" fill=\"none\" stroke=\"currentColor\"/>\n",
       "    <text dy=\"1.25em\" style=\"font-size: 0.8em; letter-spacing: 1px\">\n",
       "        <textPath xlink:href=\"#arrow-815e97fa361f4be78d08f10ab02665bd-0-7\" class=\"displacy-label\" startOffset=\"50%\" side=\"left\" fill=\"currentColor\" text-anchor=\"middle\">prep</textPath>\n",
       "    </text>\n",
       "    <path class=\"displacy-arrowhead\" d=\"M1435.0,354.0 L1443.0,342.0 1427.0,342.0\" fill=\"currentColor\"/>\n",
       "</g>\n",
       "\n",
       "<g class=\"displacy-arrow\">\n",
       "    <path class=\"displacy-arc\" id=\"arrow-815e97fa361f4be78d08f10ab02665bd-0-8\" stroke-width=\"2px\" d=\"M1645,352.0 C1645,89.5 2145.0,89.5 2145.0,352.0\" fill=\"none\" stroke=\"currentColor\"/>\n",
       "    <text dy=\"1.25em\" style=\"font-size: 0.8em; letter-spacing: 1px\">\n",
       "        <textPath xlink:href=\"#arrow-815e97fa361f4be78d08f10ab02665bd-0-8\" class=\"displacy-label\" startOffset=\"50%\" side=\"left\" fill=\"currentColor\" text-anchor=\"middle\">det</textPath>\n",
       "    </text>\n",
       "    <path class=\"displacy-arrowhead\" d=\"M1645,354.0 L1637,342.0 1653,342.0\" fill=\"currentColor\"/>\n",
       "</g>\n",
       "\n",
       "<g class=\"displacy-arrow\">\n",
       "    <path class=\"displacy-arc\" id=\"arrow-815e97fa361f4be78d08f10ab02665bd-0-9\" stroke-width=\"2px\" d=\"M1820,352.0 C1820,177.0 2140.0,177.0 2140.0,352.0\" fill=\"none\" stroke=\"currentColor\"/>\n",
       "    <text dy=\"1.25em\" style=\"font-size: 0.8em; letter-spacing: 1px\">\n",
       "        <textPath xlink:href=\"#arrow-815e97fa361f4be78d08f10ab02665bd-0-9\" class=\"displacy-label\" startOffset=\"50%\" side=\"left\" fill=\"currentColor\" text-anchor=\"middle\">amod</textPath>\n",
       "    </text>\n",
       "    <path class=\"displacy-arrowhead\" d=\"M1820,354.0 L1812,342.0 1828,342.0\" fill=\"currentColor\"/>\n",
       "</g>\n",
       "\n",
       "<g class=\"displacy-arrow\">\n",
       "    <path class=\"displacy-arc\" id=\"arrow-815e97fa361f4be78d08f10ab02665bd-0-10\" stroke-width=\"2px\" d=\"M1995,352.0 C1995,264.5 2135.0,264.5 2135.0,352.0\" fill=\"none\" stroke=\"currentColor\"/>\n",
       "    <text dy=\"1.25em\" style=\"font-size: 0.8em; letter-spacing: 1px\">\n",
       "        <textPath xlink:href=\"#arrow-815e97fa361f4be78d08f10ab02665bd-0-10\" class=\"displacy-label\" startOffset=\"50%\" side=\"left\" fill=\"currentColor\" text-anchor=\"middle\">compound</textPath>\n",
       "    </text>\n",
       "    <path class=\"displacy-arrowhead\" d=\"M1995,354.0 L1987,342.0 2003,342.0\" fill=\"currentColor\"/>\n",
       "</g>\n",
       "\n",
       "<g class=\"displacy-arrow\">\n",
       "    <path class=\"displacy-arc\" id=\"arrow-815e97fa361f4be78d08f10ab02665bd-0-11\" stroke-width=\"2px\" d=\"M1470,352.0 C1470,2.0 2150.0,2.0 2150.0,352.0\" fill=\"none\" stroke=\"currentColor\"/>\n",
       "    <text dy=\"1.25em\" style=\"font-size: 0.8em; letter-spacing: 1px\">\n",
       "        <textPath xlink:href=\"#arrow-815e97fa361f4be78d08f10ab02665bd-0-11\" class=\"displacy-label\" startOffset=\"50%\" side=\"left\" fill=\"currentColor\" text-anchor=\"middle\">pobj</textPath>\n",
       "    </text>\n",
       "    <path class=\"displacy-arrowhead\" d=\"M2150.0,354.0 L2158.0,342.0 2142.0,342.0\" fill=\"currentColor\"/>\n",
       "</g>\n",
       "\n",
       "<g class=\"displacy-arrow\">\n",
       "    <path class=\"displacy-arc\" id=\"arrow-815e97fa361f4be78d08f10ab02665bd-0-12\" stroke-width=\"2px\" d=\"M2345,352.0 C2345,264.5 2485.0,264.5 2485.0,352.0\" fill=\"none\" stroke=\"currentColor\"/>\n",
       "    <text dy=\"1.25em\" style=\"font-size: 0.8em; letter-spacing: 1px\">\n",
       "        <textPath xlink:href=\"#arrow-815e97fa361f4be78d08f10ab02665bd-0-12\" class=\"displacy-label\" startOffset=\"50%\" side=\"left\" fill=\"currentColor\" text-anchor=\"middle\">nsubj</textPath>\n",
       "    </text>\n",
       "    <path class=\"displacy-arrowhead\" d=\"M2345,354.0 L2337,342.0 2353,342.0\" fill=\"currentColor\"/>\n",
       "</g>\n",
       "\n",
       "<g class=\"displacy-arrow\">\n",
       "    <path class=\"displacy-arc\" id=\"arrow-815e97fa361f4be78d08f10ab02665bd-0-13\" stroke-width=\"2px\" d=\"M2520,352.0 C2520,264.5 2660.0,264.5 2660.0,352.0\" fill=\"none\" stroke=\"currentColor\"/>\n",
       "    <text dy=\"1.25em\" style=\"font-size: 0.8em; letter-spacing: 1px\">\n",
       "        <textPath xlink:href=\"#arrow-815e97fa361f4be78d08f10ab02665bd-0-13\" class=\"displacy-label\" startOffset=\"50%\" side=\"left\" fill=\"currentColor\" text-anchor=\"middle\">acomp</textPath>\n",
       "    </text>\n",
       "    <path class=\"displacy-arrowhead\" d=\"M2660.0,354.0 L2668.0,342.0 2652.0,342.0\" fill=\"currentColor\"/>\n",
       "</g>\n",
       "\n",
       "<g class=\"displacy-arrow\">\n",
       "    <path class=\"displacy-arc\" id=\"arrow-815e97fa361f4be78d08f10ab02665bd-0-14\" stroke-width=\"2px\" d=\"M2695,352.0 C2695,264.5 2835.0,264.5 2835.0,352.0\" fill=\"none\" stroke=\"currentColor\"/>\n",
       "    <text dy=\"1.25em\" style=\"font-size: 0.8em; letter-spacing: 1px\">\n",
       "        <textPath xlink:href=\"#arrow-815e97fa361f4be78d08f10ab02665bd-0-14\" class=\"displacy-label\" startOffset=\"50%\" side=\"left\" fill=\"currentColor\" text-anchor=\"middle\">prep</textPath>\n",
       "    </text>\n",
       "    <path class=\"displacy-arrowhead\" d=\"M2835.0,354.0 L2843.0,342.0 2827.0,342.0\" fill=\"currentColor\"/>\n",
       "</g>\n",
       "\n",
       "<g class=\"displacy-arrow\">\n",
       "    <path class=\"displacy-arc\" id=\"arrow-815e97fa361f4be78d08f10ab02665bd-0-15\" stroke-width=\"2px\" d=\"M2870,352.0 C2870,264.5 3010.0,264.5 3010.0,352.0\" fill=\"none\" stroke=\"currentColor\"/>\n",
       "    <text dy=\"1.25em\" style=\"font-size: 0.8em; letter-spacing: 1px\">\n",
       "        <textPath xlink:href=\"#arrow-815e97fa361f4be78d08f10ab02665bd-0-15\" class=\"displacy-label\" startOffset=\"50%\" side=\"left\" fill=\"currentColor\" text-anchor=\"middle\">pcomp</textPath>\n",
       "    </text>\n",
       "    <path class=\"displacy-arrowhead\" d=\"M3010.0,354.0 L3018.0,342.0 3002.0,342.0\" fill=\"currentColor\"/>\n",
       "</g>\n",
       "\n",
       "<g class=\"displacy-arrow\">\n",
       "    <path class=\"displacy-arc\" id=\"arrow-815e97fa361f4be78d08f10ab02665bd-0-16\" stroke-width=\"2px\" d=\"M3220,352.0 C3220,264.5 3360.0,264.5 3360.0,352.0\" fill=\"none\" stroke=\"currentColor\"/>\n",
       "    <text dy=\"1.25em\" style=\"font-size: 0.8em; letter-spacing: 1px\">\n",
       "        <textPath xlink:href=\"#arrow-815e97fa361f4be78d08f10ab02665bd-0-16\" class=\"displacy-label\" startOffset=\"50%\" side=\"left\" fill=\"currentColor\" text-anchor=\"middle\">compound</textPath>\n",
       "    </text>\n",
       "    <path class=\"displacy-arrowhead\" d=\"M3220,354.0 L3212,342.0 3228,342.0\" fill=\"currentColor\"/>\n",
       "</g>\n",
       "\n",
       "<g class=\"displacy-arrow\">\n",
       "    <path class=\"displacy-arc\" id=\"arrow-815e97fa361f4be78d08f10ab02665bd-0-17\" stroke-width=\"2px\" d=\"M3395,352.0 C3395,264.5 3535.0,264.5 3535.0,352.0\" fill=\"none\" stroke=\"currentColor\"/>\n",
       "    <text dy=\"1.25em\" style=\"font-size: 0.8em; letter-spacing: 1px\">\n",
       "        <textPath xlink:href=\"#arrow-815e97fa361f4be78d08f10ab02665bd-0-17\" class=\"displacy-label\" startOffset=\"50%\" side=\"left\" fill=\"currentColor\" text-anchor=\"middle\">compound</textPath>\n",
       "    </text>\n",
       "    <path class=\"displacy-arrowhead\" d=\"M3395,354.0 L3387,342.0 3403,342.0\" fill=\"currentColor\"/>\n",
       "</g>\n",
       "\n",
       "<g class=\"displacy-arrow\">\n",
       "    <path class=\"displacy-arc\" id=\"arrow-815e97fa361f4be78d08f10ab02665bd-0-18\" stroke-width=\"2px\" d=\"M3045,352.0 C3045,89.5 3545.0,89.5 3545.0,352.0\" fill=\"none\" stroke=\"currentColor\"/>\n",
       "    <text dy=\"1.25em\" style=\"font-size: 0.8em; letter-spacing: 1px\">\n",
       "        <textPath xlink:href=\"#arrow-815e97fa361f4be78d08f10ab02665bd-0-18\" class=\"displacy-label\" startOffset=\"50%\" side=\"left\" fill=\"currentColor\" text-anchor=\"middle\">dobj</textPath>\n",
       "    </text>\n",
       "    <path class=\"displacy-arrowhead\" d=\"M3545.0,354.0 L3553.0,342.0 3537.0,342.0\" fill=\"currentColor\"/>\n",
       "</g>\n",
       "\n",
       "<g class=\"displacy-arrow\">\n",
       "    <path class=\"displacy-arc\" id=\"arrow-815e97fa361f4be78d08f10ab02665bd-0-19\" stroke-width=\"2px\" d=\"M3745,352.0 C3745,264.5 3885.0,264.5 3885.0,352.0\" fill=\"none\" stroke=\"currentColor\"/>\n",
       "    <text dy=\"1.25em\" style=\"font-size: 0.8em; letter-spacing: 1px\">\n",
       "        <textPath xlink:href=\"#arrow-815e97fa361f4be78d08f10ab02665bd-0-19\" class=\"displacy-label\" startOffset=\"50%\" side=\"left\" fill=\"currentColor\" text-anchor=\"middle\">nsubj</textPath>\n",
       "    </text>\n",
       "    <path class=\"displacy-arrowhead\" d=\"M3745,354.0 L3737,342.0 3753,342.0\" fill=\"currentColor\"/>\n",
       "</g>\n",
       "\n",
       "<g class=\"displacy-arrow\">\n",
       "    <path class=\"displacy-arc\" id=\"arrow-815e97fa361f4be78d08f10ab02665bd-0-20\" stroke-width=\"2px\" d=\"M3920,352.0 C3920,264.5 4060.0,264.5 4060.0,352.0\" fill=\"none\" stroke=\"currentColor\"/>\n",
       "    <text dy=\"1.25em\" style=\"font-size: 0.8em; letter-spacing: 1px\">\n",
       "        <textPath xlink:href=\"#arrow-815e97fa361f4be78d08f10ab02665bd-0-20\" class=\"displacy-label\" startOffset=\"50%\" side=\"left\" fill=\"currentColor\" text-anchor=\"middle\">xcomp</textPath>\n",
       "    </text>\n",
       "    <path class=\"displacy-arrowhead\" d=\"M4060.0,354.0 L4068.0,342.0 4052.0,342.0\" fill=\"currentColor\"/>\n",
       "</g>\n",
       "\n",
       "<g class=\"displacy-arrow\">\n",
       "    <path class=\"displacy-arc\" id=\"arrow-815e97fa361f4be78d08f10ab02665bd-0-21\" stroke-width=\"2px\" d=\"M4270,352.0 C4270,177.0 4590.0,177.0 4590.0,352.0\" fill=\"none\" stroke=\"currentColor\"/>\n",
       "    <text dy=\"1.25em\" style=\"font-size: 0.8em; letter-spacing: 1px\">\n",
       "        <textPath xlink:href=\"#arrow-815e97fa361f4be78d08f10ab02665bd-0-21\" class=\"displacy-label\" startOffset=\"50%\" side=\"left\" fill=\"currentColor\" text-anchor=\"middle\">amod</textPath>\n",
       "    </text>\n",
       "    <path class=\"displacy-arrowhead\" d=\"M4270,354.0 L4262,342.0 4278,342.0\" fill=\"currentColor\"/>\n",
       "</g>\n",
       "\n",
       "<g class=\"displacy-arrow\">\n",
       "    <path class=\"displacy-arc\" id=\"arrow-815e97fa361f4be78d08f10ab02665bd-0-22\" stroke-width=\"2px\" d=\"M4445,352.0 C4445,264.5 4585.0,264.5 4585.0,352.0\" fill=\"none\" stroke=\"currentColor\"/>\n",
       "    <text dy=\"1.25em\" style=\"font-size: 0.8em; letter-spacing: 1px\">\n",
       "        <textPath xlink:href=\"#arrow-815e97fa361f4be78d08f10ab02665bd-0-22\" class=\"displacy-label\" startOffset=\"50%\" side=\"left\" fill=\"currentColor\" text-anchor=\"middle\">compound</textPath>\n",
       "    </text>\n",
       "    <path class=\"displacy-arrowhead\" d=\"M4445,354.0 L4437,342.0 4453,342.0\" fill=\"currentColor\"/>\n",
       "</g>\n",
       "\n",
       "<g class=\"displacy-arrow\">\n",
       "    <path class=\"displacy-arc\" id=\"arrow-815e97fa361f4be78d08f10ab02665bd-0-23\" stroke-width=\"2px\" d=\"M4095,352.0 C4095,89.5 4595.0,89.5 4595.0,352.0\" fill=\"none\" stroke=\"currentColor\"/>\n",
       "    <text dy=\"1.25em\" style=\"font-size: 0.8em; letter-spacing: 1px\">\n",
       "        <textPath xlink:href=\"#arrow-815e97fa361f4be78d08f10ab02665bd-0-23\" class=\"displacy-label\" startOffset=\"50%\" side=\"left\" fill=\"currentColor\" text-anchor=\"middle\">dobj</textPath>\n",
       "    </text>\n",
       "    <path class=\"displacy-arrowhead\" d=\"M4595.0,354.0 L4603.0,342.0 4587.0,342.0\" fill=\"currentColor\"/>\n",
       "</g>\n",
       "\n",
       "<g class=\"displacy-arrow\">\n",
       "    <path class=\"displacy-arc\" id=\"arrow-815e97fa361f4be78d08f10ab02665bd-0-24\" stroke-width=\"2px\" d=\"M4620,352.0 C4620,264.5 4760.0,264.5 4760.0,352.0\" fill=\"none\" stroke=\"currentColor\"/>\n",
       "    <text dy=\"1.25em\" style=\"font-size: 0.8em; letter-spacing: 1px\">\n",
       "        <textPath xlink:href=\"#arrow-815e97fa361f4be78d08f10ab02665bd-0-24\" class=\"displacy-label\" startOffset=\"50%\" side=\"left\" fill=\"currentColor\" text-anchor=\"middle\">cc</textPath>\n",
       "    </text>\n",
       "    <path class=\"displacy-arrowhead\" d=\"M4760.0,354.0 L4768.0,342.0 4752.0,342.0\" fill=\"currentColor\"/>\n",
       "</g>\n",
       "\n",
       "<g class=\"displacy-arrow\">\n",
       "    <path class=\"displacy-arc\" id=\"arrow-815e97fa361f4be78d08f10ab02665bd-0-25\" stroke-width=\"2px\" d=\"M4970,352.0 C4970,177.0 5290.0,177.0 5290.0,352.0\" fill=\"none\" stroke=\"currentColor\"/>\n",
       "    <text dy=\"1.25em\" style=\"font-size: 0.8em; letter-spacing: 1px\">\n",
       "        <textPath xlink:href=\"#arrow-815e97fa361f4be78d08f10ab02665bd-0-25\" class=\"displacy-label\" startOffset=\"50%\" side=\"left\" fill=\"currentColor\" text-anchor=\"middle\">amod</textPath>\n",
       "    </text>\n",
       "    <path class=\"displacy-arrowhead\" d=\"M4970,354.0 L4962,342.0 4978,342.0\" fill=\"currentColor\"/>\n",
       "</g>\n",
       "\n",
       "<g class=\"displacy-arrow\">\n",
       "    <path class=\"displacy-arc\" id=\"arrow-815e97fa361f4be78d08f10ab02665bd-0-26\" stroke-width=\"2px\" d=\"M5145,352.0 C5145,264.5 5285.0,264.5 5285.0,352.0\" fill=\"none\" stroke=\"currentColor\"/>\n",
       "    <text dy=\"1.25em\" style=\"font-size: 0.8em; letter-spacing: 1px\">\n",
       "        <textPath xlink:href=\"#arrow-815e97fa361f4be78d08f10ab02665bd-0-26\" class=\"displacy-label\" startOffset=\"50%\" side=\"left\" fill=\"currentColor\" text-anchor=\"middle\">amod</textPath>\n",
       "    </text>\n",
       "    <path class=\"displacy-arrowhead\" d=\"M5145,354.0 L5137,342.0 5153,342.0\" fill=\"currentColor\"/>\n",
       "</g>\n",
       "\n",
       "<g class=\"displacy-arrow\">\n",
       "    <path class=\"displacy-arc\" id=\"arrow-815e97fa361f4be78d08f10ab02665bd-0-27\" stroke-width=\"2px\" d=\"M4620,352.0 C4620,2.0 5300.0,2.0 5300.0,352.0\" fill=\"none\" stroke=\"currentColor\"/>\n",
       "    <text dy=\"1.25em\" style=\"font-size: 0.8em; letter-spacing: 1px\">\n",
       "        <textPath xlink:href=\"#arrow-815e97fa361f4be78d08f10ab02665bd-0-27\" class=\"displacy-label\" startOffset=\"50%\" side=\"left\" fill=\"currentColor\" text-anchor=\"middle\">conj</textPath>\n",
       "    </text>\n",
       "    <path class=\"displacy-arrowhead\" d=\"M5300.0,354.0 L5308.0,342.0 5292.0,342.0\" fill=\"currentColor\"/>\n",
       "</g>\n",
       "\n",
       "<g class=\"displacy-arrow\">\n",
       "    <path class=\"displacy-arc\" id=\"arrow-815e97fa361f4be78d08f10ab02665bd-0-28\" stroke-width=\"2px\" d=\"M5320,352.0 C5320,264.5 5460.0,264.5 5460.0,352.0\" fill=\"none\" stroke=\"currentColor\"/>\n",
       "    <text dy=\"1.25em\" style=\"font-size: 0.8em; letter-spacing: 1px\">\n",
       "        <textPath xlink:href=\"#arrow-815e97fa361f4be78d08f10ab02665bd-0-28\" class=\"displacy-label\" startOffset=\"50%\" side=\"left\" fill=\"currentColor\" text-anchor=\"middle\">prep</textPath>\n",
       "    </text>\n",
       "    <path class=\"displacy-arrowhead\" d=\"M5460.0,354.0 L5468.0,342.0 5452.0,342.0\" fill=\"currentColor\"/>\n",
       "</g>\n",
       "\n",
       "<g class=\"displacy-arrow\">\n",
       "    <path class=\"displacy-arc\" id=\"arrow-815e97fa361f4be78d08f10ab02665bd-0-29\" stroke-width=\"2px\" d=\"M5670,352.0 C5670,264.5 5810.0,264.5 5810.0,352.0\" fill=\"none\" stroke=\"currentColor\"/>\n",
       "    <text dy=\"1.25em\" style=\"font-size: 0.8em; letter-spacing: 1px\">\n",
       "        <textPath xlink:href=\"#arrow-815e97fa361f4be78d08f10ab02665bd-0-29\" class=\"displacy-label\" startOffset=\"50%\" side=\"left\" fill=\"currentColor\" text-anchor=\"middle\">poss</textPath>\n",
       "    </text>\n",
       "    <path class=\"displacy-arrowhead\" d=\"M5670,354.0 L5662,342.0 5678,342.0\" fill=\"currentColor\"/>\n",
       "</g>\n",
       "\n",
       "<g class=\"displacy-arrow\">\n",
       "    <path class=\"displacy-arc\" id=\"arrow-815e97fa361f4be78d08f10ab02665bd-0-30\" stroke-width=\"2px\" d=\"M5495,352.0 C5495,177.0 5815.0,177.0 5815.0,352.0\" fill=\"none\" stroke=\"currentColor\"/>\n",
       "    <text dy=\"1.25em\" style=\"font-size: 0.8em; letter-spacing: 1px\">\n",
       "        <textPath xlink:href=\"#arrow-815e97fa361f4be78d08f10ab02665bd-0-30\" class=\"displacy-label\" startOffset=\"50%\" side=\"left\" fill=\"currentColor\" text-anchor=\"middle\">pobj</textPath>\n",
       "    </text>\n",
       "    <path class=\"displacy-arrowhead\" d=\"M5815.0,354.0 L5823.0,342.0 5807.0,342.0\" fill=\"currentColor\"/>\n",
       "</g>\n",
       "</svg></span>"
      ],
      "text/plain": [
       "<IPython.core.display.HTML object>"
      ]
     },
     "metadata": {
      "tags": []
     },
     "output_type": "display_data"
    }
   ],
   "source": [
    "from spacy import displacy\n",
    "displacy.render(doc, style='dep',jupyter=True)"
   ]
  },
  {
   "cell_type": "markdown",
   "metadata": {
    "id": "YZWlRUARBijI"
   },
   "source": [
    "### Question 12. Extract and print First Name and Last Name from my_text using Matcher. "
   ]
  },
  {
   "cell_type": "code",
   "execution_count": 14,
   "metadata": {
    "colab": {
     "base_uri": "https://localhost:8080/"
    },
    "id": "SuNhDwKkBijJ",
    "outputId": "79956bbb-2d70-4b54-961c-d50d2aa169ec"
   },
   "outputs": [
    {
     "name": "stdout",
     "output_type": "stream",
     "text": [
      "Rajkumar Kannan PERSON\n"
     ]
    }
   ],
   "source": [
    "from spacy.matcher import Matcher \n",
    "from spacy.tokens import Span\n",
    "matcher = Matcher(nlp.vocab)\n",
    "matcher.add(\"PERSON\", [[{\"lower\": \"rajkumar\"}, {\"lower\": \"kannan\"}]])\n",
    "matches = matcher(doc)\n",
    "for match_id, start, end in matches:\n",
    "    # Create the matched span and assign the match_id as a label\n",
    "    span = Span(doc, start, end, label=match_id)\n",
    "    print(span.text, span.label_)"
   ]
  },
  {
   "cell_type": "markdown",
   "metadata": {
    "id": "c8p1Fdp0BijJ"
   },
   "source": [
    "### Question 13. Print the dependency parse tag values for the text, “Rajkumar is learning piano”. Also, display dependency parse tree using displaCy."
   ]
  },
  {
   "cell_type": "code",
   "execution_count": 15,
   "metadata": {
    "colab": {
     "base_uri": "https://localhost:8080/",
     "height": 400
    },
    "id": "5hf5MEDOBijJ",
    "outputId": "103c04f0-7a5a-470e-e96a-9c0e73985a2c"
   },
   "outputs": [
    {
     "name": "stdout",
     "output_type": "stream",
     "text": [
      "Rajkumar nsubj\n",
      "is aux\n",
      "learning ROOT\n",
      "piano dobj\n"
     ]
    },
    {
     "data": {
      "text/html": [
       "<span class=\"tex2jax_ignore\"><svg xmlns=\"http://www.w3.org/2000/svg\" xmlns:xlink=\"http://www.w3.org/1999/xlink\" xml:lang=\"en\" id=\"94300c94c72743b68e4f56820825a97f-0\" class=\"displacy\" width=\"750\" height=\"312.0\" direction=\"ltr\" style=\"max-width: none; height: 312.0px; color: #000000; background: #ffffff; font-family: Arial; direction: ltr\">\n",
       "<text class=\"displacy-token\" fill=\"currentColor\" text-anchor=\"middle\" y=\"222.0\">\n",
       "    <tspan class=\"displacy-word\" fill=\"currentColor\" x=\"50\">Rajkumar</tspan>\n",
       "    <tspan class=\"displacy-tag\" dy=\"2em\" fill=\"currentColor\" x=\"50\">PROPN</tspan>\n",
       "</text>\n",
       "\n",
       "<text class=\"displacy-token\" fill=\"currentColor\" text-anchor=\"middle\" y=\"222.0\">\n",
       "    <tspan class=\"displacy-word\" fill=\"currentColor\" x=\"225\">is</tspan>\n",
       "    <tspan class=\"displacy-tag\" dy=\"2em\" fill=\"currentColor\" x=\"225\">AUX</tspan>\n",
       "</text>\n",
       "\n",
       "<text class=\"displacy-token\" fill=\"currentColor\" text-anchor=\"middle\" y=\"222.0\">\n",
       "    <tspan class=\"displacy-word\" fill=\"currentColor\" x=\"400\">learning</tspan>\n",
       "    <tspan class=\"displacy-tag\" dy=\"2em\" fill=\"currentColor\" x=\"400\">VERB</tspan>\n",
       "</text>\n",
       "\n",
       "<text class=\"displacy-token\" fill=\"currentColor\" text-anchor=\"middle\" y=\"222.0\">\n",
       "    <tspan class=\"displacy-word\" fill=\"currentColor\" x=\"575\">piano</tspan>\n",
       "    <tspan class=\"displacy-tag\" dy=\"2em\" fill=\"currentColor\" x=\"575\">NOUN</tspan>\n",
       "</text>\n",
       "\n",
       "<g class=\"displacy-arrow\">\n",
       "    <path class=\"displacy-arc\" id=\"arrow-94300c94c72743b68e4f56820825a97f-0-0\" stroke-width=\"2px\" d=\"M70,177.0 C70,2.0 400.0,2.0 400.0,177.0\" fill=\"none\" stroke=\"currentColor\"/>\n",
       "    <text dy=\"1.25em\" style=\"font-size: 0.8em; letter-spacing: 1px\">\n",
       "        <textPath xlink:href=\"#arrow-94300c94c72743b68e4f56820825a97f-0-0\" class=\"displacy-label\" startOffset=\"50%\" side=\"left\" fill=\"currentColor\" text-anchor=\"middle\">nsubj</textPath>\n",
       "    </text>\n",
       "    <path class=\"displacy-arrowhead\" d=\"M70,179.0 L62,167.0 78,167.0\" fill=\"currentColor\"/>\n",
       "</g>\n",
       "\n",
       "<g class=\"displacy-arrow\">\n",
       "    <path class=\"displacy-arc\" id=\"arrow-94300c94c72743b68e4f56820825a97f-0-1\" stroke-width=\"2px\" d=\"M245,177.0 C245,89.5 395.0,89.5 395.0,177.0\" fill=\"none\" stroke=\"currentColor\"/>\n",
       "    <text dy=\"1.25em\" style=\"font-size: 0.8em; letter-spacing: 1px\">\n",
       "        <textPath xlink:href=\"#arrow-94300c94c72743b68e4f56820825a97f-0-1\" class=\"displacy-label\" startOffset=\"50%\" side=\"left\" fill=\"currentColor\" text-anchor=\"middle\">aux</textPath>\n",
       "    </text>\n",
       "    <path class=\"displacy-arrowhead\" d=\"M245,179.0 L237,167.0 253,167.0\" fill=\"currentColor\"/>\n",
       "</g>\n",
       "\n",
       "<g class=\"displacy-arrow\">\n",
       "    <path class=\"displacy-arc\" id=\"arrow-94300c94c72743b68e4f56820825a97f-0-2\" stroke-width=\"2px\" d=\"M420,177.0 C420,89.5 570.0,89.5 570.0,177.0\" fill=\"none\" stroke=\"currentColor\"/>\n",
       "    <text dy=\"1.25em\" style=\"font-size: 0.8em; letter-spacing: 1px\">\n",
       "        <textPath xlink:href=\"#arrow-94300c94c72743b68e4f56820825a97f-0-2\" class=\"displacy-label\" startOffset=\"50%\" side=\"left\" fill=\"currentColor\" text-anchor=\"middle\">dobj</textPath>\n",
       "    </text>\n",
       "    <path class=\"displacy-arrowhead\" d=\"M570.0,179.0 L578.0,167.0 562.0,167.0\" fill=\"currentColor\"/>\n",
       "</g>\n",
       "</svg></span>"
      ],
      "text/plain": [
       "<IPython.core.display.HTML object>"
      ]
     },
     "metadata": {
      "tags": []
     },
     "output_type": "display_data"
    }
   ],
   "source": [
    "doc = nlp(u'Rajkumar is learning piano')\n",
    "for token in doc:\n",
    "    print(token.text, token.dep_)\n",
    "displacy.render(doc, style='dep',jupyter=True)"
   ]
  },
  {
   "cell_type": "markdown",
   "metadata": {
    "id": "FdITZGCmBijK"
   },
   "source": [
    "### Question 14. Consider the following string. "
   ]
  },
  {
   "cell_type": "markdown",
   "metadata": {
    "id": "R_DS7mI7BijK"
   },
   "source": [
    "#### a. Print the children of `developer` "
   ]
  },
  {
   "cell_type": "code",
   "execution_count": 16,
   "metadata": {
    "colab": {
     "base_uri": "https://localhost:8080/"
    },
    "id": "AZ9_3LQvBijK",
    "outputId": "89a9e6c8-207c-45e0-caec-16cf0f3af640"
   },
   "outputs": [
    {
     "data": {
      "text/plain": [
       "['a', 'Python', 'working']"
      ]
     },
     "execution_count": 16,
     "metadata": {
      "tags": []
     },
     "output_type": "execute_result"
    }
   ],
   "source": [
    "d_text = 'Sam Peter is a Python developer currently working for a London-based Fintech company'\n",
    "doc = nlp(d_text)\n",
    "[t.text for t in doc[5].children]"
   ]
  },
  {
   "cell_type": "markdown",
   "metadata": {
    "id": "ckKeT0thBijL"
   },
   "source": [
    "#### b. Print the previous neighboring node of `developer` "
   ]
  },
  {
   "cell_type": "code",
   "execution_count": 17,
   "metadata": {
    "colab": {
     "base_uri": "https://localhost:8080/"
    },
    "id": "f7ELQSl-BijL",
    "outputId": "b1866986-4467-43a2-a125-2a2777d8fa5d"
   },
   "outputs": [
    {
     "name": "stdout",
     "output_type": "stream",
     "text": [
      "Python\n"
     ]
    }
   ],
   "source": [
    "print (doc[5].nbor(-1))"
   ]
  },
  {
   "cell_type": "markdown",
   "metadata": {
    "id": "HIdc9DWhBijL"
   },
   "source": [
    "#### c. Print the next neighboring node of `developer` "
   ]
  },
  {
   "cell_type": "code",
   "execution_count": 18,
   "metadata": {
    "colab": {
     "base_uri": "https://localhost:8080/"
    },
    "id": "M6RELHhvBijM",
    "outputId": "eb8d2438-e07f-4266-bca2-72b36004ca1e"
   },
   "outputs": [
    {
     "name": "stdout",
     "output_type": "stream",
     "text": [
      "currently\n"
     ]
    }
   ],
   "source": [
    "print (doc[5].nbor())"
   ]
  },
  {
   "cell_type": "markdown",
   "metadata": {
    "id": "-AFQwZ8zBijM"
   },
   "source": [
    "#### d. Print the all tokens on the left of `developer` "
   ]
  },
  {
   "cell_type": "code",
   "execution_count": 19,
   "metadata": {
    "colab": {
     "base_uri": "https://localhost:8080/"
    },
    "id": "Q_AYmBwBBijM",
    "outputId": "7808e039-1bb7-4a7a-8641-1df1224df647"
   },
   "outputs": [
    {
     "data": {
      "text/plain": [
       "['a', 'Python']"
      ]
     },
     "execution_count": 19,
     "metadata": {
      "tags": []
     },
     "output_type": "execute_result"
    }
   ],
   "source": [
    "[t.text for t in doc[5].lefts]"
   ]
  },
  {
   "cell_type": "markdown",
   "metadata": {
    "id": "EkpG9q_zBijM"
   },
   "source": [
    "#### e. Print the tokens on the right of `developer` "
   ]
  },
  {
   "cell_type": "code",
   "execution_count": 20,
   "metadata": {
    "colab": {
     "base_uri": "https://localhost:8080/"
    },
    "id": "X3yTykH8BijN",
    "outputId": "3077ed8e-e66b-4629-efdb-023e68cbcb3e"
   },
   "outputs": [
    {
     "data": {
      "text/plain": [
       "['working']"
      ]
     },
     "execution_count": 20,
     "metadata": {
      "tags": []
     },
     "output_type": "execute_result"
    }
   ],
   "source": [
    "[t.text for t in doc[5].rights]"
   ]
  },
  {
   "cell_type": "markdown",
   "metadata": {
    "id": "vxGve7APBijN"
   },
   "source": [
    "#### f. Print the Print subtree of `developer` "
   ]
  },
  {
   "cell_type": "code",
   "execution_count": 21,
   "metadata": {
    "colab": {
     "base_uri": "https://localhost:8080/"
    },
    "id": "sKjr7QvnBijO",
    "outputId": "e2f42a44-588e-41d9-9ab7-6ab2fd3b18b9"
   },
   "outputs": [
    {
     "data": {
      "text/plain": [
       "['a',\n",
       " 'Python',\n",
       " 'developer',\n",
       " 'currently',\n",
       " 'working',\n",
       " 'for',\n",
       " 'a',\n",
       " 'London-based',\n",
       " 'Fintech',\n",
       " 'company']"
      ]
     },
     "execution_count": 21,
     "metadata": {
      "tags": []
     },
     "output_type": "execute_result"
    }
   ],
   "source": [
    "[t.text for t in doc[5].subtree]"
   ]
  },
  {
   "cell_type": "markdown",
   "metadata": {
    "id": "jgFLsz5fBijO"
   },
   "source": [
    "### Question 15. Print all Noun Phrases in the text"
   ]
  },
  {
   "cell_type": "code",
   "execution_count": 22,
   "metadata": {
    "colab": {
     "base_uri": "https://localhost:8080/"
    },
    "id": "KxKOCbbYBijO",
    "outputId": "d7025064-79ec-4b3c-9e07-3041be2b0ce7"
   },
   "outputs": [
    {
     "name": "stdout",
     "output_type": "stream",
     "text": [
      "a developer conference\n",
      "21 July\n",
      "New Delhi\n"
     ]
    }
   ],
   "source": [
    "conference_text = ('There is a developer conference happening on 21 July 2020 in New Delhi.')\n",
    "conference_doc = nlp(conference_text)\n",
    "for chunk in conference_doc.noun_chunks:\n",
    "    print (chunk)"
   ]
  },
  {
   "cell_type": "markdown",
   "metadata": {
    "id": "rWpdJBe8BijP"
   },
   "source": [
    "### Question 16. Print all Verb Phrases in the text (you need to install textacy)"
   ]
  },
  {
   "cell_type": "code",
   "execution_count": 22,
   "metadata": {
    "id": "sRBJIUoLBijP"
   },
   "outputs": [],
   "source": [
    "#import spacy,en_core_web_sm\n",
    "#import textacy\n",
    "#about_talk_text = ('The talk will introduce reader about Use'\n",
    "                   #' cases of Natural Language Processing in'\n",
    "                   #' Fintech')\n",
    "#pattern = r'(<VERB>?<ADV>*<VERB>+)'\n",
    "#about_talk_doc = textacy.make_spacy_doc(about_talk_text, lang='en_core_web_sm')\n",
    "#verb_phrases = textacy.extract.pos_regex_matches(about_talk_doc, pattern)\n",
    "\n",
    "#for chunk in verb_phrases:\n",
    "    #print(chunk.text)\n",
    "#for chunk in about_talk_doc.noun_chunks:\n",
    "    #print (chunk)"
   ]
  },
  {
   "cell_type": "markdown",
   "metadata": {
    "id": "Pj8llAC9BijP"
   },
   "source": [
    "### Question 17. Print all Named Entities in the text "
   ]
  },
  {
   "cell_type": "code",
   "execution_count": 23,
   "metadata": {
    "colab": {
     "base_uri": "https://localhost:8080/"
    },
    "id": "ph7yan50BijQ",
    "outputId": "a5a748b9-ec13-48a2-e651-952e4234e6cf"
   },
   "outputs": [
    {
     "name": "stdout",
     "output_type": "stream",
     "text": [
      "Great Piano Academy 0 19 ORG Companies, agencies, institutions, etc.\n",
      "Mayfair 35 42 GPE Countries, cities, states\n",
      "the City of London 46 64 GPE Countries, cities, states\n"
     ]
    }
   ],
   "source": [
    "piano_class_text = ('Great Piano Academy is situated'\n",
    "    ' in Mayfair or the City of London and has'\n",
    "    ' world-class piano instructors.')\n",
    "piano_class_doc = nlp(piano_class_text)\n",
    "for ent in piano_class_doc.ents:\n",
    "    print(ent.text, ent.start_char, ent.end_char, ent.label_, spacy.explain(ent.label_))"
   ]
  }
 ],
 "metadata": {
  "colab": {
   "name": "NLP_lab-15_205229118_Mahalakshmi.S.ipynb",
   "provenance": []
  },
  "kernelspec": {
   "display_name": "Python 3",
   "language": "python",
   "name": "python3"
  },
  "language_info": {
   "codemirror_mode": {
    "name": "ipython",
    "version": 3
   },
   "file_extension": ".py",
   "mimetype": "text/x-python",
   "name": "python",
   "nbconvert_exporter": "python",
   "pygments_lexer": "ipython3",
   "version": "3.8.5"
  }
 },
 "nbformat": 4,
 "nbformat_minor": 1
}
