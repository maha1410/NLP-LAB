{
 "cells": [
  {
   "cell_type": "markdown",
   "metadata": {
    "id": "y4zzZyWvew61"
   },
   "source": [
    "## Lab14. Word Sense Disambiguation with Improved Lesk Algorithm "
   ]
  },
  {
   "cell_type": "markdown",
   "metadata": {
    "id": "mDQNDuTFew65"
   },
   "source": [
    "### EXERCISE-1"
   ]
  },
  {
   "cell_type": "code",
   "execution_count": 1,
   "metadata": {
    "colab": {
     "base_uri": "https://localhost:8080/"
    },
    "id": "rE3HOeAlew66",
    "outputId": "6a86c665-bbe0-4ee7-a36e-3ae81d0caa61"
   },
   "outputs": [
    {
     "name": "stdout",
     "output_type": "stream",
     "text": [
      "[nltk_data] Downloading package wordnet to /root/nltk_data...\n",
      "[nltk_data]   Unzipping corpora/wordnet.zip.\n"
     ]
    },
    {
     "data": {
      "text/plain": [
       "True"
      ]
     },
     "execution_count": 1,
     "metadata": {
      "tags": []
     },
     "output_type": "execute_result"
    }
   ],
   "source": [
    "import nltk\n",
    "from nltk.wsd import lesk\n",
    "from nltk.corpus import wordnet as wn\n",
    "nltk.download('wordnet')"
   ]
  },
  {
   "cell_type": "code",
   "execution_count": 2,
   "metadata": {
    "colab": {
     "base_uri": "https://localhost:8080/"
    },
    "id": "bHwjdBwkew68",
    "outputId": "45d49601-5aca-4170-b347-425a3f7bed00"
   },
   "outputs": [
    {
     "name": "stdout",
     "output_type": "stream",
     "text": [
      "Synset('bass.n.01') the lowest part of the musical range\n",
      "Synset('bass.n.02') the lowest part in polyphonic music\n",
      "Synset('bass.n.03') an adult male singer with the lowest voice\n",
      "Synset('sea_bass.n.01') the lean flesh of a saltwater fish of the family Serranidae\n",
      "Synset('freshwater_bass.n.01') any of various North American freshwater fish with lean flesh (especially of the genus Micropterus)\n",
      "Synset('bass.n.06') the lowest adult male singing voice\n",
      "Synset('bass.n.07') the member with the lowest range of a family of musical instruments\n",
      "Synset('bass.n.08') nontechnical name for any of numerous edible marine and freshwater spiny-finned fishes\n",
      "Synset('bass.s.01') having or denoting a low vocal or instrumental range\n"
     ]
    }
   ],
   "source": [
    "for ss in wn.synsets('bass'):\n",
    "    print(ss,ss.definition())"
   ]
  },
  {
   "cell_type": "code",
   "execution_count": 3,
   "metadata": {
    "colab": {
     "base_uri": "https://localhost:8080/"
    },
    "id": "pgMHJ_7Rew69",
    "outputId": "c39e602f-b74c-49d4-ad0e-ac9f7c508b4f"
   },
   "outputs": [
    {
     "name": "stdout",
     "output_type": "stream",
     "text": [
      "Synset('bass.n.08')\n"
     ]
    }
   ],
   "source": [
    "print(lesk('I went fishing for some sea bass'.split(),'bass','n'))"
   ]
  },
  {
   "cell_type": "code",
   "execution_count": 4,
   "metadata": {
    "colab": {
     "base_uri": "https://localhost:8080/"
    },
    "id": "zkZga0ztew6-",
    "outputId": "b44e1ffc-f29c-4f94-a099-478567245881"
   },
   "outputs": [
    {
     "name": "stdout",
     "output_type": "stream",
     "text": [
      "Synset('sea_bass.n.01')\n"
     ]
    }
   ],
   "source": [
    "print(lesk('Avishai Cohen is an Israeli jazz musician. He plays double bass and is also a composer'.split(), 'bass','n'))"
   ]
  },
  {
   "cell_type": "markdown",
   "metadata": {
    "id": "2s431awmew6-"
   },
   "source": [
    "### EXERCISE-2: Print senses for ‘chair’\n",
    "#### According to WordNet, how many distinct senses does 'chair' have? What are the hyponyms of 'chair' in its 'chair.n.01' sense? What is its hypernym, and what is its hyper-hypernym?"
   ]
  },
  {
   "cell_type": "code",
   "execution_count": 5,
   "metadata": {
    "colab": {
     "base_uri": "https://localhost:8080/"
    },
    "id": "Sh_dqZdTew6_",
    "outputId": "a4241405-d8ae-4664-d591-2aa801b53987"
   },
   "outputs": [
    {
     "name": "stdout",
     "output_type": "stream",
     "text": [
      "Synset('chair.n.01') a seat for one person, with a support for the back\n",
      "Synset('professorship.n.01') the position of professor\n",
      "Synset('president.n.04') the officer who presides at the meetings of an organization\n",
      "Synset('electric_chair.n.01') an instrument of execution by electrocution; resembles an ordinary seat for one person\n",
      "Synset('chair.n.05') a particular seat in an orchestra\n",
      "Synset('chair.v.01') act or preside as chair, as of an academic department in a university\n",
      "Synset('moderate.v.01') preside over\n"
     ]
    }
   ],
   "source": [
    "for ss in wn.synsets('chair'):\n",
    "    print(ss,ss.definition())"
   ]
  },
  {
   "cell_type": "code",
   "execution_count": 6,
   "metadata": {
    "colab": {
     "base_uri": "https://localhost:8080/"
    },
    "id": "g7xqXgwIew7A",
    "outputId": "4ef327bc-4fba-4dd3-da17-2062d3d2e230"
   },
   "outputs": [
    {
     "name": "stdout",
     "output_type": "stream",
     "text": [
      "Synset('chair.n.01')\n"
     ]
    }
   ],
   "source": [
    "syn = wn.synsets('chair')[0]\n",
    "print(syn)"
   ]
  },
  {
   "cell_type": "code",
   "execution_count": 7,
   "metadata": {
    "colab": {
     "base_uri": "https://localhost:8080/"
    },
    "id": "TzkRR5rnew7B",
    "outputId": "606341bd-25a6-45d6-aa9e-a92736d5c0ec"
   },
   "outputs": [
    {
     "name": "stdout",
     "output_type": "stream",
     "text": [
      "Synset name :   chair.n.01\n",
      "\n",
      "Synset abstract term :   [Synset('seat.n.03')]\n",
      "\n",
      "Synset specific term :   [Synset('bench.n.01'), Synset('bench.n.07'), Synset('box.n.08'), Synset('box_seat.n.01'), Synset('chair.n.01'), Synset('ottoman.n.03'), Synset('sofa.n.01'), Synset('stool.n.01'), Synset('toilet_seat.n.01')]\n",
      "\n",
      "Synset root hypernerm :   <bound method Synset.root_hypernyms of Synset('chair.n.01')>\n"
     ]
    }
   ],
   "source": [
    "print (\"Synset name :  \", syn.name())\n",
    "  \n",
    "print (\"\\nSynset abstract term :  \", syn.hypernyms())\n",
    "  \n",
    "print (\"\\nSynset specific term :  \", \n",
    "       syn.hypernyms()[0].hyponyms())\n",
    "  \n",
    "syn.root_hypernyms()\n",
    "  \n",
    "print (\"\\nSynset root hypernerm :  \", syn.root_hypernyms)"
   ]
  },
  {
   "cell_type": "markdown",
   "metadata": {
    "id": "r0JuGWGRew7C"
   },
   "source": [
    "### EXERCISE-3: Disambiguate the correct senses given the context sentence"
   ]
  },
  {
   "cell_type": "code",
   "execution_count": 8,
   "metadata": {
    "id": "apel-7PYew7C"
   },
   "outputs": [],
   "source": [
    "from nltk.corpus import wordnet as wn\n",
    "from nltk.stem import PorterStemmer\n",
    "from itertools import chain\n",
    "bank_sents = ['I went to the bank to deposit my money', 'The river bank was full of dead fishes']\n",
    "plant_sents = ['The workers at the industrial plant were overworked','The plant was no longer bearing flowers']\n",
    "ps = PorterStemmer()"
   ]
  },
  {
   "cell_type": "code",
   "execution_count": 9,
   "metadata": {
    "id": "nvW2Ao6Qew7D"
   },
   "outputs": [],
   "source": [
    "def my_lesk(context_sentence, ambiguous_word,pos=None, stem=True, hyperhypo=True):\n",
    "    max_overlaps = 0\n",
    "    lesk_sense = None\n",
    "    context_sentence = context_sentence.split()\n",
    "    for ss in wn.synsets(ambiguous_word):\n",
    "    # If POS is specified.\n",
    "    if pos and ss.pos is not pos:\n",
    "        continue\n",
    "    lesk_dictionary = []\n",
    "    # Includes definition.\n",
    "    defns = ss.definition().split()\n",
    "    lesk_dictionary += defns\n",
    "  # Includes lemma_names.\n",
    "    lesk_dictionary += ss.lemma_names()\n",
    "  # Optional: includes lemma_names of hypernyms and hyponyms.\n",
    "    if hyperhypo == True:\n",
    "        hhwords = ss.hypernyms() + ss.hyponyms()\n",
    "    lesk_dictionary += list(chain(*[w.lemma_names() for w in hhwords] ))\n",
    "  # Matching exact words causes sparsity, so lets match stems.\n",
    "    if stem == True:\n",
    "        lesk_dictionary = [ps.stem(w) for w in lesk_dictionary]\n",
    "    context_sentence = [ps.stem(w) for w in context_sentence]\n",
    "    overlaps = set(lesk_dictionary).intersection(context_sentence)\n",
    "    if len(overlaps) > max_overlaps:\n",
    "        lesk_sense = ss\n",
    "    max_overlaps = len(overlaps)\n",
    "    return lesk_sense"
   ]
  },
  {
   "cell_type": "code",
   "execution_count": 10,
   "metadata": {
    "colab": {
     "base_uri": "https://localhost:8080/"
    },
    "id": "SVmbg34Qew7D",
    "outputId": "e103beb5-d103-49df-c453-99a6175e6bf5"
   },
   "outputs": [
    {
     "name": "stdout",
     "output_type": "stream",
     "text": [
      "Context: I went to the bank to deposit my money\n",
      "Sense: Synset('bank.v.07')\n",
      "Definition: <bound method Synset.definition of Synset('bank.v.07')>\n"
     ]
    }
   ],
   "source": [
    "# evaluate senses\n",
    "print(\"Context:\", bank_sents[0])\n",
    "answer = my_lesk(bank_sents[0],'bank')\n",
    "print(\"Sense:\", answer)\n",
    "print(\"Definition:\",answer.definition)"
   ]
  },
  {
   "cell_type": "code",
   "execution_count": 11,
   "metadata": {
    "colab": {
     "base_uri": "https://localhost:8080/"
    },
    "id": "dLFYsJOPew7E",
    "outputId": "268e69c0-6154-467d-8215-12e1ae2dc4cc"
   },
   "outputs": [
    {
     "name": "stdout",
     "output_type": "stream",
     "text": [
      "Context: The river bank was full of dead fishes\n",
      "Sense: Synset('bank.v.07')\n",
      "Definition: <bound method Synset.definition of Synset('bank.v.07')>\n"
     ]
    }
   ],
   "source": [
    "print(\"Context:\", bank_sents[1])\n",
    "answer = my_lesk(bank_sents[1],'bank')\n",
    "print(\"Sense:\", answer)\n",
    "print(\"Definition:\", answer.definition)"
   ]
  },
  {
   "cell_type": "code",
   "execution_count": 12,
   "metadata": {
    "colab": {
     "base_uri": "https://localhost:8080/"
    },
    "id": "b3ec2Eweew7F",
    "outputId": "090a26cf-6309-4ff6-f437-65cb9f3cbc67"
   },
   "outputs": [
    {
     "name": "stdout",
     "output_type": "stream",
     "text": [
      "Context: The workers at the industrial plant were overworked\n",
      "Sense: Synset('plant.v.06')\n",
      "Definition: <bound method Synset.definition of Synset('plant.v.06')>\n"
     ]
    }
   ],
   "source": [
    "print(\"Context:\", plant_sents[0])\n",
    "answer = my_lesk(plant_sents[0],'plant')\n",
    "print(\"Sense:\", answer)\n",
    "print(\"Definition:\",answer.definition)"
   ]
  },
  {
   "cell_type": "markdown",
   "metadata": {
    "id": "M0l5We6bew7F"
   },
   "source": [
    "### EXERCISE-4\n",
    "\n",
    "\n",
    "Learn further examples for synsets at\n",
    "https://www.programcreek.com/python/example/91604/nltk.corpus.wordnet.synsets"
   ]
  }
 ],
 "metadata": {
  "colab": {
   "name": "NLP_lab-14_205229118_Mahalakshmi.S.ipynb",
   "provenance": []
  },
  "kernelspec": {
   "display_name": "Python 3",
   "language": "python",
   "name": "python3"
  },
  "language_info": {
   "codemirror_mode": {
    "name": "ipython",
    "version": 3
   },
   "file_extension": ".py",
   "mimetype": "text/x-python",
   "name": "python",
   "nbconvert_exporter": "python",
   "pygments_lexer": "ipython3",
   "version": "3.8.5"
  }
 },
 "nbformat": 4,
 "nbformat_minor": 1
}
